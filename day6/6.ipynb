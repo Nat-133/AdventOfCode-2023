{
 "cells": [
  {
   "cell_type": "code",
   "execution_count": 8,
   "metadata": {},
   "outputs": [],
   "source": [
    "from math import floor, ceil, sqrt"
   ]
  },
  {
   "cell_type": "code",
   "execution_count": 9,
   "metadata": {},
   "outputs": [
    {
     "data": {
      "text/plain": [
       "['Time:      7  15   30', 'Distance:  9  40  200']"
      ]
     },
     "execution_count": 9,
     "metadata": {},
     "output_type": "execute_result"
    }
   ],
   "source": [
    "with open(\"test_input.txt\", \"r\") as f:\n",
    "    test_input = f.read().split(\"\\n\")\n",
    "\n",
    "with open(\"input.txt\", \"r\") as f:\n",
    "    real_input = f.read().split(\"\\n\")\n",
    "\n",
    "test_input"
   ]
  },
  {
   "cell_type": "code",
   "execution_count": 20,
   "metadata": {},
   "outputs": [
    {
     "data": {
      "text/plain": [
       "(30, 200)"
      ]
     },
     "execution_count": 20,
     "metadata": {},
     "output_type": "execute_result"
    }
   ],
   "source": [
    "def parse_lines(lines):\n",
    "    return list(zip(map(int, lines[0].split()[1:]), map(int, lines[1].split()[1:])))\n",
    "\n",
    "parse_lines(test_input)[2]"
   ]
  },
  {
   "cell_type": "code",
   "execution_count": 65,
   "metadata": {},
   "outputs": [
    {
     "data": {
      "text/plain": [
       "(4, 11)"
      ]
     },
     "execution_count": 65,
     "metadata": {},
     "output_type": "execute_result"
    }
   ],
   "source": [
    "def next_biggest(n):\n",
    "    nb = ceil(n)\n",
    "    return nb if nb!=n else ceil(n+1)\n",
    "\n",
    "def next_lowest(n):\n",
    "    nl = floor(n)\n",
    "    return nl if nl!=n else floor(n-1)\n",
    "\n",
    "def possible_solution_bounds(time, target_distance):\n",
    "    root_section = sqrt(time**2 - 4*target_distance)\n",
    "    print(time, target_distance)\n",
    "    divide = -2\n",
    "    ub = (-7-root_section)/divide\n",
    "    lb = (-7 + root_section)/divide\n",
    "    return max(1, lb), min(time-1, ub)\n",
    "\n",
    "def possible_solution_bounds(time, target_distance):\n",
    "    sols = [h for h in range(time) if h*(time-h)>target_distance]\n",
    "    return min(sols), max(sols)\n",
    "\n",
    "possible_solution_bounds(*parse_lines(test_input)[1])"
   ]
  },
  {
   "cell_type": "code",
   "execution_count": 53,
   "metadata": {},
   "outputs": [
    {
     "data": {
      "text/plain": [
       "8"
      ]
     },
     "execution_count": 53,
     "metadata": {},
     "output_type": "execute_result"
    }
   ],
   "source": [
    "def get_solution_count(time, target_distance):\n",
    "    lb, ub = possible_solution_bounds(time, target_distance)\n",
    "    if lb*(time-lb) < target_distance: print(\"fuck\")\n",
    "    return ub-lb + 1\n",
    "\n",
    "get_solution_count(*parse_lines(test_input)[1])"
   ]
  },
  {
   "cell_type": "code",
   "execution_count": 54,
   "metadata": {},
   "outputs": [
    {
     "name": "stdout",
     "output_type": "stream",
     "text": [
      "4\n",
      "8\n",
      "9\n"
     ]
    },
    {
     "data": {
      "text/plain": [
       "288"
      ]
     },
     "execution_count": 54,
     "metadata": {},
     "output_type": "execute_result"
    }
   ],
   "source": [
    "def get_score_1(lines):\n",
    "    prod = 1\n",
    "    for count in (get_solution_count(t,d) for t,d in parse_lines(lines)):\n",
    "        prod *= count\n",
    "        print(count)\n",
    "\n",
    "    return prod\n",
    "\n",
    "get_score_1(test_input)"
   ]
  },
  {
   "cell_type": "code",
   "execution_count": 55,
   "metadata": {},
   "outputs": [
    {
     "name": "stdout",
     "output_type": "stream",
     "text": [
      "25\n",
      "51\n",
      "51\n",
      "51\n"
     ]
    },
    {
     "data": {
      "text/plain": [
       "3316275"
      ]
     },
     "execution_count": 55,
     "metadata": {},
     "output_type": "execute_result"
    }
   ],
   "source": [
    "get_score_1(real_input)"
   ]
  },
  {
   "cell_type": "code",
   "execution_count": 59,
   "metadata": {},
   "outputs": [
    {
     "data": {
      "text/plain": [
       "[71530, 940200]"
      ]
     },
     "execution_count": 59,
     "metadata": {},
     "output_type": "execute_result"
    }
   ],
   "source": [
    "def parse_input_2(lines):\n",
    "    return [int(\"\".join(line.split()[1:])) for line in lines]\n",
    "\n",
    "parse_input_2(test_input)"
   ]
  },
  {
   "cell_type": "code",
   "execution_count": 64,
   "metadata": {},
   "outputs": [
    {
     "data": {
      "text/plain": [
       "27102791"
      ]
     },
     "execution_count": 64,
     "metadata": {},
     "output_type": "execute_result"
    }
   ],
   "source": [
    "def get_score_2(lines):\n",
    "    return get_solution_count(*parse_input_2(lines))\n",
    "\n",
    "get_score_2(real_input)"
   ]
  }
 ],
 "metadata": {
  "kernelspec": {
   "display_name": "Python 3",
   "language": "python",
   "name": "python3"
  },
  "language_info": {
   "codemirror_mode": {
    "name": "ipython",
    "version": 3
   },
   "file_extension": ".py",
   "mimetype": "text/x-python",
   "name": "python",
   "nbconvert_exporter": "python",
   "pygments_lexer": "ipython3",
   "version": "3.10.0"
  }
 },
 "nbformat": 4,
 "nbformat_minor": 2
}
