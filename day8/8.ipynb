{
 "cells": [
  {
   "cell_type": "code",
   "execution_count": 24,
   "metadata": {},
   "outputs": [
    {
     "data": {
      "text/plain": [
       "'RL\\n\\nAAA = (BBB, CCC)\\nBBB = (DDD, EEE)\\nCCC = (ZZZ, GGG)\\nDDD = (DDD, DDD)\\nEEE = (EEE, EEE)\\nGGG = (GGG, GGG)\\nZZZ = (ZZZ, ZZZ)'"
      ]
     },
     "execution_count": 24,
     "metadata": {},
     "output_type": "execute_result"
    }
   ],
   "source": [
    "with open(\"test_input_1.txt\", \"r\") as f:\n",
    "    test_input_1 = f.read()\n",
    "with open(\"test_input_2.txt\", \"r\") as f:\n",
    "    test_input_2 = f.read()\n",
    "\n",
    "test_input_1\n"
   ]
  },
  {
   "cell_type": "code",
   "execution_count": 25,
   "metadata": {},
   "outputs": [
    {
     "data": {
      "text/plain": [
       "'RL'"
      ]
     },
     "execution_count": 25,
     "metadata": {},
     "output_type": "execute_result"
    }
   ],
   "source": [
    "def get_steps(raw_input):\n",
    "    return raw_input.split(\"\\n\")[0]\n",
    "\n",
    "get_steps(test_input_1)"
   ]
  },
  {
   "cell_type": "code",
   "execution_count": 26,
   "metadata": {},
   "outputs": [
    {
     "data": {
      "text/plain": [
       "['AAA = (BBB, CCC)',\n",
       " 'BBB = (DDD, EEE)',\n",
       " 'CCC = (ZZZ, GGG)',\n",
       " 'DDD = (DDD, DDD)',\n",
       " 'EEE = (EEE, EEE)',\n",
       " 'GGG = (GGG, GGG)',\n",
       " 'ZZZ = (ZZZ, ZZZ)']"
      ]
     },
     "execution_count": 26,
     "metadata": {},
     "output_type": "execute_result"
    }
   ],
   "source": [
    "def get_route(raw_input):\n",
    "    return raw_input.split(\"\\n\\n\")[1].split(\"\\n\")\n",
    "\n",
    "get_route(test_input_1)\n"
   ]
  },
  {
   "cell_type": "code",
   "execution_count": 27,
   "metadata": {},
   "outputs": [],
   "source": [
    "from collections import namedtuple\n",
    "Node = namedtuple(\"Node\", \"l r\")"
   ]
  },
  {
   "cell_type": "code",
   "execution_count": 28,
   "metadata": {},
   "outputs": [
    {
     "data": {
      "text/plain": [
       "{'AAA': Node(l='BBB', r='CCC')}"
      ]
     },
     "execution_count": 28,
     "metadata": {},
     "output_type": "execute_result"
    }
   ],
   "source": [
    "def build_node(line):\n",
    "    node, _, raw_left, raw_right = line.split()\n",
    "    left = raw_left[1:-1]\n",
    "    right = raw_right[:-1]\n",
    "    return {node:Node(left, right)}\n",
    "\n",
    "build_node(get_route(test_input_1)[0])"
   ]
  },
  {
   "cell_type": "code",
   "execution_count": 29,
   "metadata": {},
   "outputs": [
    {
     "data": {
      "text/plain": [
       "{'AAA': Node(l='BBB', r='CCC'),\n",
       " 'BBB': Node(l='DDD', r='EEE'),\n",
       " 'CCC': Node(l='ZZZ', r='GGG'),\n",
       " 'DDD': Node(l='DDD', r='DDD'),\n",
       " 'EEE': Node(l='EEE', r='EEE'),\n",
       " 'GGG': Node(l='GGG', r='GGG'),\n",
       " 'ZZZ': Node(l='ZZZ', r='ZZZ')}"
      ]
     },
     "execution_count": 29,
     "metadata": {},
     "output_type": "execute_result"
    }
   ],
   "source": [
    "def build_graph(lines):\n",
    "    graph = dict()\n",
    "    for line in lines:\n",
    "        graph = graph | build_node(line)\n",
    "    return graph\n",
    "\n",
    "build_graph(get_route(test_input_1))"
   ]
  },
  {
   "cell_type": "code",
   "execution_count": 30,
   "metadata": {},
   "outputs": [
    {
     "data": {
      "text/plain": [
       "2"
      ]
     },
     "execution_count": 30,
     "metadata": {},
     "output_type": "execute_result"
    }
   ],
   "source": [
    "from itertools import cycle\n",
    "START_NODE = \"AAA\"\n",
    "END_NODE = \"ZZZ\"\n",
    "def calculate_steps_to_end(graph, steps):\n",
    "    current_node = graph[START_NODE]\n",
    "    for i, step in enumerate(cycle(steps)):\n",
    "        new_node_id = current_node.l if step == \"L\" else current_node.r\n",
    "\n",
    "        if new_node_id == END_NODE:\n",
    "            return i+1\n",
    "        \n",
    "        current_node = graph[new_node_id]\n",
    "\n",
    "calculate_steps_to_end(build_graph(get_route(test_input_1)), get_steps(test_input_1))"
   ]
  },
  {
   "cell_type": "code",
   "execution_count": 31,
   "metadata": {},
   "outputs": [
    {
     "data": {
      "text/plain": [
       "6"
      ]
     },
     "execution_count": 31,
     "metadata": {},
     "output_type": "execute_result"
    }
   ],
   "source": [
    "def get_result_1(raw_input):\n",
    "    return calculate_steps_to_end(build_graph(get_route(raw_input)), get_steps(raw_input))\n",
    "\n",
    "get_result_1(test_input_2)"
   ]
  },
  {
   "cell_type": "code",
   "execution_count": null,
   "metadata": {},
   "outputs": [],
   "source": []
  }
 ],
 "metadata": {
  "kernelspec": {
   "display_name": "Python 3",
   "language": "python",
   "name": "python3"
  },
  "language_info": {
   "codemirror_mode": {
    "name": "ipython",
    "version": 3
   },
   "file_extension": ".py",
   "mimetype": "text/x-python",
   "name": "python",
   "nbconvert_exporter": "python",
   "pygments_lexer": "ipython3",
   "version": "3.12.0"
  }
 },
 "nbformat": 4,
 "nbformat_minor": 2
}
