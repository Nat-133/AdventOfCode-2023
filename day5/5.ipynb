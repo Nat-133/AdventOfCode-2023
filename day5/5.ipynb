{
 "cells": [
  {
   "cell_type": "code",
   "execution_count": 239,
   "metadata": {},
   "outputs": [],
   "source": [
    "from itertools import pairwise\n",
    "lmap = lambda f,i : list(map(f, i))"
   ]
  },
  {
   "cell_type": "code",
   "execution_count": 240,
   "metadata": {},
   "outputs": [
    {
     "data": {
      "text/plain": [
       "['seeds: 79 14 55 13',\n",
       " 'seed-to-soil map:\\n50 98 2\\n52 50 48',\n",
       " 'soil-to-fertilizer map:\\n0 15 37\\n37 52 2\\n39 0 15',\n",
       " 'fertilizer-to-water map:\\n49 53 8\\n0 11 42\\n42 0 7\\n57 7 4',\n",
       " 'water-to-light map:\\n88 18 7\\n18 25 70',\n",
       " 'light-to-temperature map:\\n45 77 23\\n81 45 19\\n68 64 13',\n",
       " 'temperature-to-humidity map:\\n0 69 1\\n1 0 69',\n",
       " 'humidity-to-location map:\\n60 56 37\\n56 93 4']"
      ]
     },
     "execution_count": 240,
     "metadata": {},
     "output_type": "execute_result"
    }
   ],
   "source": [
    "with open(\"test_input.txt\", \"r\") as f:\n",
    "    test_input = f.read().split(\"\\n\\n\")\n",
    "\n",
    "with open(\"input.txt\", \"r\") as f:\n",
    "    real_input = f.read().split(\"\\n\\n\")\n",
    "\n",
    "test_input"
   ]
  },
  {
   "cell_type": "code",
   "execution_count": 241,
   "metadata": {},
   "outputs": [
    {
     "data": {
      "text/plain": [
       "[79, 14, 55, 13]"
      ]
     },
     "execution_count": 241,
     "metadata": {},
     "output_type": "execute_result"
    }
   ],
   "source": [
    "def get_seeds(sections):\n",
    "    return lmap(int, sections[0].split()[1:])\n",
    "\n",
    "get_seeds(test_input)"
   ]
  },
  {
   "cell_type": "code",
   "execution_count": 242,
   "metadata": {},
   "outputs": [
    {
     "data": {
      "text/plain": [
       "[[0, 15, 37], [37, 52, 2], [39, 0, 15]]"
      ]
     },
     "execution_count": 242,
     "metadata": {},
     "output_type": "execute_result"
    }
   ],
   "source": [
    "def split_section(section):\n",
    "    range_lines = section.split(\"\\n\")[1:]\n",
    "    return [lmap(int, line.split()) for line in range_lines]\n",
    "\n",
    "split_section(test_input[2])"
   ]
  },
  {
   "cell_type": "code",
   "execution_count": 243,
   "metadata": {},
   "outputs": [
    {
     "data": {
      "text/plain": [
       "[((0, 14), (39, 53)), ((15, 51), (0, 36)), ((52, 53), (37, 38))]"
      ]
     },
     "execution_count": 243,
     "metadata": {},
     "output_type": "execute_result"
    }
   ],
   "source": [
    "def convert_to_ranges(split_section):\n",
    "    return sorted([((s, s+l-1), (d, d+l-1)) for d,s,l in split_section], key=lambda r: r[0])\n",
    "\n",
    "convert_to_ranges(split_section(test_input[2]))"
   ]
  },
  {
   "cell_type": "code",
   "execution_count": 244,
   "metadata": {},
   "outputs": [
    {
     "data": {
      "text/plain": [
       "81"
      ]
     },
     "execution_count": 244,
     "metadata": {},
     "output_type": "execute_result"
    }
   ],
   "source": [
    "def find_range(id, ranges):\n",
    "    possible_ranges = [((a1,a2), (b1, b2)) for ((a1,a2),(b1,b2)) in ranges if a1<=id<=a2]\n",
    "    return possible_ranges[0] if possible_ranges else ((id, id), (id, id))\n",
    "\n",
    "def convert_value(id, ranges):\n",
    "    (s1, _), (d1, d2) = find_range(id, ranges)\n",
    "    return id - s1 + d1\n",
    "\n",
    "convert_value(79, convert_to_ranges(split_section(test_input[1])))"
   ]
  },
  {
   "cell_type": "code",
   "execution_count": 245,
   "metadata": {},
   "outputs": [
    {
     "data": {
      "text/plain": [
       "[[((50, 97), (52, 99)), ((98, 99), (50, 51))],\n",
       " [((0, 14), (39, 53)), ((15, 51), (0, 36)), ((52, 53), (37, 38))],\n",
       " [((0, 6), (42, 48)),\n",
       "  ((7, 10), (57, 60)),\n",
       "  ((11, 52), (0, 41)),\n",
       "  ((53, 60), (49, 56))],\n",
       " [((18, 24), (88, 94)), ((25, 94), (18, 87))],\n",
       " [((45, 63), (81, 99)), ((64, 76), (68, 80)), ((77, 99), (45, 67))],\n",
       " [((0, 68), (1, 69)), ((69, 69), (0, 0))],\n",
       " [((56, 92), (60, 96)), ((93, 96), (56, 59))]]"
      ]
     },
     "execution_count": 245,
     "metadata": {},
     "output_type": "execute_result"
    }
   ],
   "source": [
    "def get_sequential_ranges(sections):\n",
    "    return [convert_to_ranges(split_section(section)) for section in sections[1:]]\n",
    "\n",
    "get_sequential_ranges(test_input)"
   ]
  },
  {
   "cell_type": "code",
   "execution_count": 246,
   "metadata": {},
   "outputs": [
    {
     "data": {
      "text/plain": [
       "35"
      ]
     },
     "execution_count": 246,
     "metadata": {},
     "output_type": "execute_result"
    }
   ],
   "source": [
    "def follow_ranges_list(id, ranges_list):\n",
    "    for ranges in ranges_list:\n",
    "        id = convert_value(id, ranges)\n",
    "    return id\n",
    "\n",
    "follow_ranges_list(13, get_sequential_ranges(test_input))"
   ]
  },
  {
   "cell_type": "code",
   "execution_count": 247,
   "metadata": {},
   "outputs": [
    {
     "data": {
      "text/plain": [
       "35"
      ]
     },
     "execution_count": 247,
     "metadata": {},
     "output_type": "execute_result"
    }
   ],
   "source": [
    "def get_score_1(sections):\n",
    "    seeds = get_seeds(sections)\n",
    "    sequential_ranges = get_sequential_ranges(sections)\n",
    "    locations = [follow_ranges_list(seed, sequential_ranges) for seed in seeds]\n",
    "    return min(locations)\n",
    "\n",
    "get_score_1(test_input)"
   ]
  },
  {
   "cell_type": "code",
   "execution_count": 248,
   "metadata": {},
   "outputs": [
    {
     "data": {
      "text/plain": [
       "323142486"
      ]
     },
     "execution_count": 248,
     "metadata": {},
     "output_type": "execute_result"
    }
   ],
   "source": [
    "get_score_1(real_input)"
   ]
  },
  {
   "cell_type": "code",
   "execution_count": 249,
   "metadata": {},
   "outputs": [
    {
     "data": {
      "text/plain": [
       "[((79, 92), (79, 92)), ((55, 67), (55, 67))]"
      ]
     },
     "execution_count": 249,
     "metadata": {},
     "output_type": "execute_result"
    }
   ],
   "source": [
    "def get_seed_ranges(sections):\n",
    "    part_1_seeds = get_seeds(sections)\n",
    "    range_starts = part_1_seeds[0::2]\n",
    "    range_lengths = part_1_seeds[1::2]\n",
    "    return [((s, s+l-1), (s, s+l-1)) for s,l in zip(range_starts, range_lengths)]\n",
    "\n",
    "get_seed_ranges(test_input)"
   ]
  },
  {
   "cell_type": "code",
   "execution_count": 250,
   "metadata": {},
   "outputs": [
    {
     "data": {
      "text/plain": [
       "True"
      ]
     },
     "execution_count": 250,
     "metadata": {},
     "output_type": "execute_result"
    }
   ],
   "source": [
    "def overlaps(range1, range2):\n",
    "    do_swap = range1[0] > range2[0]\n",
    "    lower_range = range2 if do_swap else range1\n",
    "    upper_range = range1 if do_swap else range2\n",
    "    return lower_range[1] >= upper_range[0]\n",
    "\n",
    "overlaps((4,7), (1,4))"
   ]
  },
  {
   "cell_type": "code",
   "execution_count": 251,
   "metadata": {},
   "outputs": [
    {
     "data": {
      "text/plain": [
       "((1, 1), (6, 6))"
      ]
     },
     "execution_count": 251,
     "metadata": {},
     "output_type": "execute_result"
    }
   ],
   "source": [
    "def clip_range_map_input(range, range_map):\n",
    "    rl, ru = range\n",
    "    (s1, e1), (s2, e2) = range_map\n",
    "    new_lower = max(rl, s1)\n",
    "    new_upper = min(ru, e1)\n",
    "    new_length = new_upper - new_lower\n",
    "    new_map_lower = s2 + (new_lower - s1)\n",
    "    \n",
    "    result = ((new_lower, new_upper), (new_map_lower, new_map_lower + new_length))\n",
    "    return result\n",
    "\n",
    "clip_range_map_input((1, 1), ((0,5), (5,10)))"
   ]
  },
  {
   "cell_type": "code",
   "execution_count": 252,
   "metadata": {},
   "outputs": [
    {
     "data": {
      "text/plain": [
       "[((5, 7), (15, 17)), ((9, 10), (14, 15))]"
      ]
     },
     "execution_count": 252,
     "metadata": {},
     "output_type": "execute_result"
    }
   ],
   "source": [
    "\n",
    "def get_overlapping_range_maps(range_map_in, range_maps_out):\n",
    "    return [clip_range_map_input(range_map_in[1], rm) for rm in range_maps_out if overlaps(range_map_in[1], rm[0])]\n",
    "\n",
    "get_overlapping_range_maps(((10,20),(0, 10)), [((5,7), (15,17)), ((9,12), (14,17)), ((19, 20), (20, 21))])"
   ]
  },
  {
   "cell_type": "code",
   "execution_count": 253,
   "metadata": {},
   "outputs": [
    {
     "data": {
      "text/plain": [
       "((1, 3), (8, 10))"
      ]
     },
     "execution_count": 253,
     "metadata": {},
     "output_type": "execute_result"
    }
   ],
   "source": [
    "def compose_range_map(range_map1, range_map2):\n",
    "    # precondition: (e,f) subset of (c,d)\n",
    "    ((a,b), (c,d)) = range_map1\n",
    "    ((e,f), (g,h)) = range_map2\n",
    "    start_delta = e-c\n",
    "    length = f-e\n",
    "    start = a+start_delta\n",
    "    return ((start, start+length), (g, h))\n",
    "\n",
    "compose_range_map(((1, 3), (2, 4)), ((2,4), (8,10)))"
   ]
  },
  {
   "cell_type": "code",
   "execution_count": 254,
   "metadata": {},
   "outputs": [
    {
     "data": {
      "text/plain": [
       "[((0, 2), (30, 32)), ((3, 5), (18, 20)), ((6, 10), (6, 10))]"
      ]
     },
     "execution_count": 254,
     "metadata": {},
     "output_type": "execute_result"
    }
   ],
   "source": [
    "def fill_range_map_input_gaps(range, range_maps):\n",
    "    l,u = range\n",
    "    range_maps = sorted(range_maps, key=lambda rm: rm[0][0])\n",
    "    lower_map_bound = range_maps[0][0][0]\n",
    "    upper_map_bound = range_maps[-1][0][1]\n",
    "    \n",
    "    gaps = [((ub1+1, lb2-1),)*2 for ((_, ub1), _),((lb2, _), _) in pairwise(range_maps) if lb2-ub1>1]\n",
    "\n",
    "    if lower_map_bound > l:\n",
    "        gaps.append( ((l, lower_map_bound-1),)*2 )\n",
    "    if upper_map_bound < u:\n",
    "        gaps.append( ((upper_map_bound+1, u),)*2 )\n",
    "    \n",
    "    return sorted(range_maps + gaps, key=lambda rm: rm[0][0])\n",
    "\n",
    "fill_range_map_input_gaps((0, 10), [((3,5), (18, 20)), ((0,2), (30,32))])"
   ]
  },
  {
   "cell_type": "code",
   "execution_count": 255,
   "metadata": {},
   "outputs": [
    {
     "data": {
      "text/plain": [
       "[((79, 92), (81, 94))]"
      ]
     },
     "execution_count": 255,
     "metadata": {},
     "output_type": "execute_result"
    }
   ],
   "source": [
    "def compose_maps(range_map, range_maps):\n",
    "    overlapping_maps = get_overlapping_range_maps(range_map, range_maps)\n",
    "\n",
    "    if not overlapping_maps: \n",
    "        return [range_map]\n",
    "    \n",
    "    overlapping_maps_no_gaps = fill_range_map_input_gaps(range_map[1], overlapping_maps)\n",
    "\n",
    "    composition = [compose_range_map(range_map, rm) for rm in overlapping_maps_no_gaps]\n",
    "\n",
    "    return composition \n",
    "\n",
    "compose_maps(get_seed_ranges(test_input)[0], get_sequential_ranges(test_input)[0])\n",
    " "
   ]
  },
  {
   "cell_type": "code",
   "execution_count": 256,
   "metadata": {},
   "outputs": [
    {
     "data": {
      "text/plain": [
       "[((55, 67), (57, 69)), ((79, 92), (81, 94))]"
      ]
     },
     "execution_count": 256,
     "metadata": {},
     "output_type": "execute_result"
    }
   ],
   "source": [
    "def follow_maps(input_maps, output_maps):\n",
    "    input_maps = sorted(input_maps, key=lambda rm: rm[0][0])\n",
    "    output_maps = sorted(output_maps, key=lambda rm: rm[0][0])\n",
    "    return [new_map for input_map in input_maps for new_map in compose_maps(input_map, output_maps)]\n",
    "\n",
    "follow_maps(get_seed_ranges(test_input), get_sequential_ranges(test_input)[0])"
   ]
  },
  {
   "cell_type": "code",
   "execution_count": 261,
   "metadata": {},
   "outputs": [
    {
     "data": {
      "text/plain": [
       "[((55, 58), (86, 89)),\n",
       " ((59, 61), (94, 96)),\n",
       " ((62, 65), (56, 59)),\n",
       " ((66, 67), (97, 98)),\n",
       " ((79, 81), (82, 84)),\n",
       " ((82, 91), (46, 55)),\n",
       " ((92, 92), (60, 60))]"
      ]
     },
     "execution_count": 261,
     "metadata": {},
     "output_type": "execute_result"
    }
   ],
   "source": [
    "def compose_sections(sections):\n",
    "    range_maps = get_seed_ranges(sections)\n",
    "    for section_maps in get_sequential_ranges(sections):\n",
    "        range_maps = follow_maps(range_maps, section_maps)\n",
    "    return range_maps\n",
    "\n",
    "compose_sections(test_input)"
   ]
  },
  {
   "cell_type": "code",
   "execution_count": 258,
   "metadata": {},
   "outputs": [
    {
     "data": {
      "text/plain": [
       "46"
      ]
     },
     "execution_count": 258,
     "metadata": {},
     "output_type": "execute_result"
    }
   ],
   "source": [
    "def get_min_output_val(range_maps):\n",
    "    return min(lb for _,(lb,_) in range_maps)\n",
    "\n",
    "get_min_output_val(compose_sections(test_input))"
   ]
  },
  {
   "cell_type": "code",
   "execution_count": 259,
   "metadata": {},
   "outputs": [
    {
     "data": {
      "text/plain": [
       "46"
      ]
     },
     "execution_count": 259,
     "metadata": {},
     "output_type": "execute_result"
    }
   ],
   "source": [
    "def get_score_2(sections):\n",
    "    return get_min_output_val(compose_sections(sections))\n",
    "\n",
    "get_score_2(test_input)"
   ]
  },
  {
   "cell_type": "code",
   "execution_count": 260,
   "metadata": {},
   "outputs": [
    {
     "data": {
      "text/plain": [
       "79874951"
      ]
     },
     "execution_count": 260,
     "metadata": {},
     "output_type": "execute_result"
    }
   ],
   "source": [
    "get_score_2(real_input)"
   ]
  }
 ],
 "metadata": {
  "kernelspec": {
   "display_name": "Python 3",
   "language": "python",
   "name": "python3"
  },
  "language_info": {
   "codemirror_mode": {
    "name": "ipython",
    "version": 3
   },
   "file_extension": ".py",
   "mimetype": "text/x-python",
   "name": "python",
   "nbconvert_exporter": "python",
   "pygments_lexer": "ipython3",
   "version": "3.10.5"
  },
  "orig_nbformat": 4
 },
 "nbformat": 4,
 "nbformat_minor": 2
}
