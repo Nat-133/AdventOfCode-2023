{
 "cells": [
  {
   "cell_type": "code",
   "execution_count": 3,
   "metadata": {},
   "outputs": [
    {
     "data": {
      "text/plain": [
       "['#.##..##.\\n..#.##.#.\\n##......#\\n##......#\\n..#.##.#.\\n..##..##.\\n#.#.##.#.',\n",
       " '#...##..#\\n#....#..#\\n..##..###\\n#####.##.\\n#####.##.\\n..##..###\\n#....#..#']"
      ]
     },
     "execution_count": 3,
     "metadata": {},
     "output_type": "execute_result"
    }
   ],
   "source": [
    "with open(\"test_input.txt\", \"r\") as f:\n",
    "    test_input = f.read().split(\"\\n\\n\")\n",
    "\n",
    "with open(\"input.txt\", \"r\") as f:\n",
    "    real_input = f.read().split(\"\\n\\n\")\n",
    "\n",
    "test_input"
   ]
  },
  {
   "cell_type": "code",
   "execution_count": 63,
   "metadata": {},
   "outputs": [
    {
     "data": {
      "text/plain": [
       "(['#.##..#',\n",
       "  '..##...',\n",
       "  '##..###',\n",
       "  '#....#.',\n",
       "  '.#..#.#',\n",
       "  '.#..#.#',\n",
       "  '#....#.',\n",
       "  '##..###',\n",
       "  '..##...'],\n",
       " ['#.##..##.',\n",
       "  '..#.##.#.',\n",
       "  '##......#',\n",
       "  '##......#',\n",
       "  '..#.##.#.',\n",
       "  '..##..##.',\n",
       "  '#.#.##.#.'])"
      ]
     },
     "execution_count": 63,
     "metadata": {},
     "output_type": "execute_result"
    }
   ],
   "source": [
    "def split_lines(grid):\n",
    "    lines = grid.split()\n",
    "    columns = [\"\".join([line[j] for line in lines]) for j in range(len(lines[0]))]\n",
    "    \n",
    "    return columns, lines\n",
    "\n",
    "split_lines(test_input[0])"
   ]
  },
  {
   "cell_type": "code",
   "execution_count": 64,
   "metadata": {},
   "outputs": [],
   "source": [
    "def parse_input(grids):\n",
    "    return [split_lines(grid) for grid in grids]"
   ]
  },
  {
   "cell_type": "code",
   "execution_count": 75,
   "metadata": {},
   "outputs": [
    {
     "data": {
      "text/plain": [
       "0"
      ]
     },
     "execution_count": 75,
     "metadata": {},
     "output_type": "execute_result"
    }
   ],
   "source": [
    "def check_symetrical(grid, pos, dist):\n",
    "        if (pos+dist+1 >= len(grid) or pos-dist < 0):\n",
    "            return True\n",
    "        \n",
    "        return grid[pos-dist] == grid[pos+dist+1]\n",
    "\n",
    "def get_symetry(grid):\n",
    "    possible_lines = list(range(-1, len(grid)-1))    \n",
    "    \n",
    "    return max(filter(lambda i: all(check_symetrical(grid, i, j) for j in range(0,i+1)), possible_lines)) + 1\n",
    "\n",
    "get_symetry(parse_input(test_input)[0][1])\n"
   ]
  },
  {
   "cell_type": "code",
   "execution_count": 72,
   "metadata": {},
   "outputs": [
    {
     "data": {
      "text/plain": [
       "400"
      ]
     },
     "execution_count": 72,
     "metadata": {},
     "output_type": "execute_result"
    }
   ],
   "source": [
    "def get_grid_score(grids):\n",
    "    return get_symetry(grids[0]) + get_symetry(grids[1])*100\n",
    "\n",
    "get_grid_score(parse_input(test_input)[1])"
   ]
  },
  {
   "cell_type": "code",
   "execution_count": 73,
   "metadata": {},
   "outputs": [
    {
     "data": {
      "text/plain": [
       "405"
      ]
     },
     "execution_count": 73,
     "metadata": {},
     "output_type": "execute_result"
    }
   ],
   "source": [
    "def get_score_1(raw_input):\n",
    "    return sum(get_grid_score(grids) for grids in parse_input(raw_input))\n",
    "\n",
    "get_score_1(test_input)"
   ]
  },
  {
   "cell_type": "code",
   "execution_count": 74,
   "metadata": {},
   "outputs": [
    {
     "data": {
      "text/plain": [
       "32035"
      ]
     },
     "execution_count": 74,
     "metadata": {},
     "output_type": "execute_result"
    }
   ],
   "source": [
    "get_score_1(real_input)"
   ]
  },
  {
   "cell_type": "code",
   "execution_count": 79,
   "metadata": {},
   "outputs": [
    {
     "data": {
      "text/plain": [
       "0"
      ]
     },
     "execution_count": 79,
     "metadata": {},
     "output_type": "execute_result"
    }
   ],
   "source": [
    "def distance(s1, s2):\n",
    "     return sum(c1!=c2 for c1,c2 in zip(s1, s2))\n",
    "\n",
    "distance(\"124\", \"124\")"
   ]
  },
  {
   "cell_type": "code",
   "execution_count": null,
   "metadata": {},
   "outputs": [],
   "source": [
    "def check_smudge_symetry(grid, pos):\n",
    "    lines = zip(grid[pos::-1], grid[pos+1:])\n",
    "    return sum(distance(line1, line2) for line1, line2 in lines)"
   ]
  },
  {
   "cell_type": "code",
   "execution_count": 82,
   "metadata": {},
   "outputs": [
    {
     "data": {
      "text/plain": [
       "'345'"
      ]
     },
     "execution_count": 82,
     "metadata": {},
     "output_type": "execute_result"
    }
   ],
   "source": [
    "\"12345\"[2::]"
   ]
  }
 ],
 "metadata": {
  "kernelspec": {
   "display_name": "Python 3",
   "language": "python",
   "name": "python3"
  },
  "language_info": {
   "codemirror_mode": {
    "name": "ipython",
    "version": 3
   },
   "file_extension": ".py",
   "mimetype": "text/x-python",
   "name": "python",
   "nbconvert_exporter": "python",
   "pygments_lexer": "ipython3",
   "version": "3.10.0"
  }
 },
 "nbformat": 4,
 "nbformat_minor": 2
}
