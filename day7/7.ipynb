{
 "cells": [
  {
   "cell_type": "code",
   "execution_count": 314,
   "metadata": {},
   "outputs": [],
   "source": [
    "def create_bag(elements):\n",
    "    return {e:elements.count(e) for e in set(elements)}"
   ]
  },
  {
   "cell_type": "code",
   "execution_count": 315,
   "metadata": {},
   "outputs": [
    {
     "data": {
      "text/plain": [
       "['32T3K 765', 'T55J5 684', 'KK677 28', 'KTJJT 220', 'QQQJA 483']"
      ]
     },
     "execution_count": 315,
     "metadata": {},
     "output_type": "execute_result"
    }
   ],
   "source": [
    "with open(\"test_input.txt\",\"r\") as f:\n",
    "    test_input = f.read().split(\"\\n\")\n",
    "\n",
    "with open(\"input.txt\", \"r\") as f:\n",
    "    real_input = f.read().split(\"\\n\")\n",
    "\n",
    "test_input"
   ]
  },
  {
   "cell_type": "code",
   "execution_count": 316,
   "metadata": {},
   "outputs": [
    {
     "data": {
      "text/plain": [
       "[('32T3K', 403110413),\n",
       " ('T55J5', 1106060206),\n",
       " ('KK677', 1313070808),\n",
       " ('KTJJT', 1311020211),\n",
       " ('QQQJA', 1212120214)]"
      ]
     },
     "execution_count": 316,
     "metadata": {},
     "output_type": "execute_result"
    }
   ],
   "source": [
    "precidence = \"AKQT98765432J\"[::-1]\n",
    "precidence = {c:precidence.find(c)+2 for c in precidence}\n",
    "get_precidence = lambda c: precidence[c]\n",
    "\n",
    "def get_tiebrake_score(cards):\n",
    "    score = 0\n",
    "    for c in cards:\n",
    "        score *= 100\n",
    "        score += precidence[c]\n",
    "    return score\n",
    "\n",
    "[(line, get_tiebrake_score(line)) for line in map(lambda x: x.split()[0], test_input)]"
   ]
  },
  {
   "cell_type": "code",
   "execution_count": 317,
   "metadata": {},
   "outputs": [
    {
     "data": {
      "text/plain": [
       "[({'T': 1, 'K': 1, '2': 1, '3': 2}, 403110413, '32T3K', 765),\n",
       " ({'T': 1, '5': 3, 'J': 1}, 1106060206, 'T55J5', 684),\n",
       " ({'6': 1, 'K': 2, '7': 2}, 1313070808, 'KK677', 28),\n",
       " ({'T': 2, 'K': 1, 'J': 2}, 1311020211, 'KTJJT', 220),\n",
       " ({'J': 1, 'A': 1, 'Q': 3}, 1212120214, 'QQQJA', 483)]"
      ]
     },
     "execution_count": 317,
     "metadata": {},
     "output_type": "execute_result"
    }
   ],
   "source": [
    "\n",
    "def parse_line(line):\n",
    "    cards, bid = line.split()\n",
    "    return create_bag(cards), get_tiebrake_score(cards), cards, int(bid)\n",
    "\n",
    "def parse_lines(lines):\n",
    "    return [parse_line(line) for line in lines]\n",
    "\n",
    "parse_lines(test_input)"
   ]
  },
  {
   "cell_type": "code",
   "execution_count": 318,
   "metadata": {},
   "outputs": [
    {
     "data": {
      "text/plain": [
       "<Hand.THREE: 4>"
      ]
     },
     "execution_count": 318,
     "metadata": {},
     "output_type": "execute_result"
    }
   ],
   "source": [
    "from enum import IntEnum\n",
    "HAND = IntEnum(\"Hand\", [\"FIVE\", \"FOUR\", \"FULL\", \"THREE\", \"DOUBLE_PAIR\", \"PAIR\", \"SINGLE\"][::-1])\n",
    "\n",
    "def get_type(bag):\n",
    "    counts = list(bag.values())\n",
    "    if 5 in counts:\n",
    "        return HAND.FIVE\n",
    "    elif 4 in counts:\n",
    "        return HAND.FOUR\n",
    "    elif 3 in counts and 2 in counts:\n",
    "        return HAND.FULL\n",
    "    elif 3 in counts:\n",
    "        return HAND.THREE\n",
    "    elif counts.count(2) == 2:\n",
    "        return HAND.DOUBLE_PAIR\n",
    "    elif 2 in counts:\n",
    "        return HAND.PAIR\n",
    "    else:\n",
    "        return HAND.SINGLE\n",
    "    \n",
    "    return score\n",
    "\n",
    "get_type(parse_lines(test_input)[4][0])"
   ]
  },
  {
   "cell_type": "code",
   "execution_count": 319,
   "metadata": {},
   "outputs": [
    {
     "data": {
      "text/plain": [
       "[('32T3K', 20403110413),\n",
       " ('T55J5', 41106060206),\n",
       " ('KK677', 31313070808),\n",
       " ('KTJJT', 31311020211),\n",
       " ('QQQJA', 41212120214)]"
      ]
     },
     "execution_count": 319,
     "metadata": {},
     "output_type": "execute_result"
    }
   ],
   "source": [
    "def get_hand_score(hand_type, tiebrake_score):\n",
    "    s1, s2 = str(hand_type+0), str(tiebrake_score)\n",
    "    s2 = s2.zfill(10)\n",
    "    s1 = s1.zfill(2)\n",
    "    if s1 == \"\": print(hand_type, tiebrake_score)\n",
    "    return int(s1 + s2)\n",
    "\n",
    "get_hand_score(get_type(parse_lines(test_input)[0][0]), parse_lines(test_input)[0][1])\n",
    "[(cards, get_hand_score(get_type(bag), tie)) for bag, tie, cards, bid in parse_lines(test_input)]"
   ]
  },
  {
   "cell_type": "code",
   "execution_count": 320,
   "metadata": {},
   "outputs": [
    {
     "data": {
      "text/plain": [
       "[({'T': 1, 'K': 1, '2': 1, '3': 2}, 403110413, '32T3K', 765),\n",
       " ({'T': 2, 'K': 1, 'J': 2}, 1311020211, 'KTJJT', 220),\n",
       " ({'6': 1, 'K': 2, '7': 2}, 1313070808, 'KK677', 28),\n",
       " ({'T': 1, '5': 3, 'J': 1}, 1106060206, 'T55J5', 684),\n",
       " ({'J': 1, 'A': 1, 'Q': 3}, 1212120214, 'QQQJA', 483)]"
      ]
     },
     "execution_count": 320,
     "metadata": {},
     "output_type": "execute_result"
    }
   ],
   "source": [
    "def order_lines(lines):\n",
    "    parsed = parse_lines(lines)\n",
    "    return sorted(parsed, key=lambda x: get_hand_score(get_type(x[0]), x[1]))\n",
    "\n",
    "order_lines(test_input)"
   ]
  },
  {
   "cell_type": "code",
   "execution_count": 321,
   "metadata": {},
   "outputs": [
    {
     "data": {
      "text/plain": [
       "6440"
      ]
     },
     "execution_count": 321,
     "metadata": {},
     "output_type": "execute_result"
    }
   ],
   "source": [
    "def total_winnings(lines):\n",
    "    ordered = order_lines(lines)\n",
    "    return sum((i+1)*bid for i, (_,_,_,bid) in enumerate(ordered))\n",
    "\n",
    "total_winnings(test_input)"
   ]
  },
  {
   "cell_type": "code",
   "execution_count": 322,
   "metadata": {},
   "outputs": [
    {
     "data": {
      "text/plain": [
       "247991952"
      ]
     },
     "execution_count": 322,
     "metadata": {},
     "output_type": "execute_result"
    }
   ],
   "source": [
    "total_winnings(real_input)\n"
   ]
  },
  {
   "cell_type": "code",
   "execution_count": 323,
   "metadata": {},
   "outputs": [],
   "source": [
    "# not 249532660, too high"
   ]
  },
  {
   "cell_type": "code",
   "execution_count": 341,
   "metadata": {},
   "outputs": [
    {
     "data": {
      "text/plain": [
       "<Hand.PAIR: 2>"
      ]
     },
     "execution_count": 341,
     "metadata": {},
     "output_type": "execute_result"
    }
   ],
   "source": [
    "def new_type(bag):\n",
    "    joker_count = bag[\"J\"] if \"J\" in bag else 0 \n",
    "    inflated_bag = {c:v for c,v in bag.items() if c !=\"J\"}\n",
    "    inflated_bag[\"J\"] = 0\n",
    "    inflated_bag[max([c for c in inflated_bag.keys()], key=lambda x: inflated_bag[x])] += joker_count\n",
    "    return get_type(inflated_bag)\n",
    "\n",
    "new_type(parse_line(test_input[0])[0])"
   ]
  },
  {
   "cell_type": "code",
   "execution_count": 349,
   "metadata": {},
   "outputs": [
    {
     "data": {
      "text/plain": [
       "[('32T3K', 20403110413),\n",
       " ('KK677', 31313070808),\n",
       " ('T55J5', 61106060206),\n",
       " ('QQQJA', 61212120214),\n",
       " ('KTJJT', 61311020211)]"
      ]
     },
     "execution_count": 349,
     "metadata": {},
     "output_type": "execute_result"
    }
   ],
   "source": [
    "def get_new_hand_score(bag, tiebrake_score):\n",
    "    old_score = str(get_hand_score(get_type(bag), tiebrake_score)).zfill(12)\n",
    "    new_score = str(new_type(bag)+0).zfill(2)\n",
    "    score =  int(new_score + old_score[2:])\n",
    "    return score\n",
    "\n",
    "sorted([(cards, get_new_hand_score(bag,tie)) for bag, tie, cards, bid in parse_lines(test_input)], key=lambda x: x[1])"
   ]
  },
  {
   "cell_type": "code",
   "execution_count": 350,
   "metadata": {},
   "outputs": [
    {
     "data": {
      "text/plain": [
       "[({'T': 1, 'K': 1, '2': 1, '3': 2}, 403110413, '32T3K', 765),\n",
       " ({'6': 1, 'K': 2, '7': 2}, 1313070808, 'KK677', 28),\n",
       " ({'T': 1, '5': 3, 'J': 1}, 1106060206, 'T55J5', 684),\n",
       " ({'J': 1, 'A': 1, 'Q': 3}, 1212120214, 'QQQJA', 483),\n",
       " ({'T': 2, 'K': 1, 'J': 2}, 1311020211, 'KTJJT', 220)]"
      ]
     },
     "execution_count": 350,
     "metadata": {},
     "output_type": "execute_result"
    }
   ],
   "source": [
    "def new_order_lines(lines):\n",
    "    parsed = parse_lines(lines)\n",
    "    return sorted(parsed, key=lambda x: get_new_hand_score(x[0], x[1]))\n",
    "\n",
    "new_order_lines(test_input)"
   ]
  },
  {
   "cell_type": "code",
   "execution_count": 351,
   "metadata": {},
   "outputs": [
    {
     "data": {
      "text/plain": [
       "5905"
      ]
     },
     "execution_count": 351,
     "metadata": {},
     "output_type": "execute_result"
    }
   ],
   "source": [
    "def total_winnings_2(lines):\n",
    "    ordered = new_order_lines(lines)\n",
    "    return sum((i+1)*bid for i, (_,_,_,bid) in enumerate(ordered))\n",
    "\n",
    "total_winnings_2(test_input)"
   ]
  },
  {
   "cell_type": "code",
   "execution_count": 352,
   "metadata": {},
   "outputs": [
    {
     "data": {
      "text/plain": [
       "248750699"
      ]
     },
     "execution_count": 352,
     "metadata": {},
     "output_type": "execute_result"
    }
   ],
   "source": [
    "total_winnings_2(real_input)"
   ]
  }
 ],
 "metadata": {
  "kernelspec": {
   "display_name": "Python 3",
   "language": "python",
   "name": "python3"
  },
  "language_info": {
   "codemirror_mode": {
    "name": "ipython",
    "version": 3
   },
   "file_extension": ".py",
   "mimetype": "text/x-python",
   "name": "python",
   "nbconvert_exporter": "python",
   "pygments_lexer": "ipython3",
   "version": "3.10.0"
  }
 },
 "nbformat": 4,
 "nbformat_minor": 2
}
