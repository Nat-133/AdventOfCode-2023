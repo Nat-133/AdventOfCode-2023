{
 "cells": [
  {
   "cell_type": "code",
   "execution_count": 59,
   "metadata": {},
   "outputs": [],
   "source": [
    "test_input = \"\"\"\n",
    "1abc2\n",
    "pqr3stu8vwx\n",
    "a1b2c3d4e5f\n",
    "treb7sevenuchet\n",
    "\"\"\".split()\n",
    "with open(\"input1.txt\", \"r\") as f:\n",
    "    real_input = f.read().split()"
   ]
  },
  {
   "cell_type": "code",
   "execution_count": 60,
   "metadata": {},
   "outputs": [
    {
     "data": {
      "text/plain": [
       "['1', '2', '3', '4', '5']"
      ]
     },
     "execution_count": 60,
     "metadata": {},
     "output_type": "execute_result"
    }
   ],
   "source": [
    "\n",
    "def extract_numbers(line):\n",
    "    return [n for n in line if n in \"0123456789\"]\n",
    "\n",
    "extract_numbers(test_input[2])"
   ]
  },
  {
   "cell_type": "code",
   "execution_count": 61,
   "metadata": {},
   "outputs": [
    {
     "data": {
      "text/plain": [
       "15"
      ]
     },
     "execution_count": 61,
     "metadata": {},
     "output_type": "execute_result"
    }
   ],
   "source": [
    "def get_score(numbers):\n",
    "    return int(numbers[0] + numbers[-1])\n",
    "\n",
    "get_score(extract_numbers(test_input[2]))"
   ]
  },
  {
   "cell_type": "code",
   "execution_count": 62,
   "metadata": {},
   "outputs": [
    {
     "data": {
      "text/plain": [
       "142"
      ]
     },
     "execution_count": 62,
     "metadata": {},
     "output_type": "execute_result"
    }
   ],
   "source": [
    "def get_total(lines):\n",
    "    return sum(map(lambda l:get_score(extract_numbers(l)), lines))\n",
    "\n",
    "get_total(test_input)"
   ]
  },
  {
   "cell_type": "code",
   "execution_count": 63,
   "metadata": {},
   "outputs": [
    {
     "data": {
      "text/plain": [
       "54573"
      ]
     },
     "execution_count": 63,
     "metadata": {},
     "output_type": "execute_result"
    }
   ],
   "source": [
    "get_total(real_input)"
   ]
  },
  {
   "cell_type": "code",
   "execution_count": 64,
   "metadata": {},
   "outputs": [
    {
     "data": {
      "text/plain": [
       "'7'"
      ]
     },
     "execution_count": 64,
     "metadata": {},
     "output_type": "execute_result"
    }
   ],
   "source": [
    "digits = [c for c in \"0123456789\"]\n",
    "digit_conversion = {\n",
    "    \"one\":\"1\",\n",
    "    \"two\":\"2\",\n",
    "    \"three\":\"3\",\n",
    "    \"four\":\"4\",\n",
    "    \"five\":\"5\",\n",
    "    \"six\":\"6\",\n",
    "    \"seven\":\"7\",\n",
    "    \"eight\":\"8\",\n",
    "    \"nine\":\"9\",\n",
    "} | {c:c for c in digits}\n",
    "\n",
    "reversed_conversion = {c[::-1]:v for c,v in digit_conversion.items()}\n",
    "\n",
    "def earliest_written_digit(line, conversion=digit_conversion):\n",
    "    digit_indexes = [(c,line.find(c)) for c in conversion.keys()]\n",
    "    digit_indexes = [(c,i) for c,i in digit_indexes if i>=0]\n",
    "    first_digit = min(digit_indexes, key=lambda p:p[1])[0]\n",
    "    return conversion[first_digit]\n",
    "\n",
    "def last_written_digit(line):\n",
    "    return earliest_written_digit(line[::-1], reversed_conversion)\n",
    "\n",
    "last_written_digit(test_input[-1])"
   ]
  },
  {
   "cell_type": "code",
   "execution_count": 65,
   "metadata": {},
   "outputs": [
    {
     "data": {
      "text/plain": [
       "77"
      ]
     },
     "execution_count": 65,
     "metadata": {},
     "output_type": "execute_result"
    }
   ],
   "source": [
    "def get_score_2(line):\n",
    "    return int(earliest_written_digit(line) + last_written_digit(line))\n",
    "\n",
    "get_score_2(test_input[-1])"
   ]
  },
  {
   "cell_type": "code",
   "execution_count": 66,
   "metadata": {},
   "outputs": [
    {
     "data": {
      "text/plain": [
       "142"
      ]
     },
     "execution_count": 66,
     "metadata": {},
     "output_type": "execute_result"
    }
   ],
   "source": [
    "def get_total_2(lines):\n",
    "    return sum(map(get_score_2, lines))\n",
    "\n",
    "get_total_2(test_input)"
   ]
  },
  {
   "cell_type": "code",
   "execution_count": 67,
   "metadata": {},
   "outputs": [
    {
     "data": {
      "text/plain": [
       "54591"
      ]
     },
     "execution_count": 67,
     "metadata": {},
     "output_type": "execute_result"
    }
   ],
   "source": [
    "get_total_2(real_input)"
   ]
  }
 ],
 "metadata": {
  "kernelspec": {
   "display_name": "Python 3",
   "language": "python",
   "name": "python3"
  },
  "language_info": {
   "codemirror_mode": {
    "name": "ipython",
    "version": 3
   },
   "file_extension": ".py",
   "mimetype": "text/x-python",
   "name": "python",
   "nbconvert_exporter": "python",
   "pygments_lexer": "ipython3",
   "version": "3.10.0"
  },
  "orig_nbformat": 4
 },
 "nbformat": 4,
 "nbformat_minor": 2
}
