{
 "cells": [
  {
   "cell_type": "code",
   "execution_count": 3,
   "metadata": {},
   "outputs": [
    {
     "data": {
      "text/plain": [
       "['rn=1',\n",
       " 'cm-',\n",
       " 'qp=3',\n",
       " 'cm=2',\n",
       " 'qp-',\n",
       " 'pc=4',\n",
       " 'ot=9',\n",
       " 'ab=5',\n",
       " 'pc-',\n",
       " 'pc=6',\n",
       " 'ot=7']"
      ]
     },
     "execution_count": 3,
     "metadata": {},
     "output_type": "execute_result"
    }
   ],
   "source": [
    "with open(\"test_input.txt\", \"r\") as f:\n",
    "    test_input = f.read().split(\",\")\n",
    "\n",
    "with open(\"input.txt\") as f:\n",
    "    real_input = f.read().split(\",\")\n",
    "\n",
    "test_input"
   ]
  },
  {
   "cell_type": "code",
   "execution_count": 5,
   "metadata": {},
   "outputs": [
    {
     "data": {
      "text/plain": [
       "30"
      ]
     },
     "execution_count": 5,
     "metadata": {},
     "output_type": "execute_result"
    }
   ],
   "source": [
    "def hash(word):\n",
    "    total = 0\n",
    "    for value in map(ord, word):\n",
    "        total = ((total + value) * 17) % 256\n",
    "    return total\n",
    "\n",
    "hash(test_input[0])"
   ]
  },
  {
   "cell_type": "code",
   "execution_count": 6,
   "metadata": {},
   "outputs": [
    {
     "data": {
      "text/plain": [
       "1320"
      ]
     },
     "execution_count": 6,
     "metadata": {},
     "output_type": "execute_result"
    }
   ],
   "source": [
    "def get_score_1(words):\n",
    "    return sum(map(hash, words))\n",
    "\n",
    "get_score_1(test_input)"
   ]
  },
  {
   "cell_type": "code",
   "execution_count": 7,
   "metadata": {},
   "outputs": [
    {
     "data": {
      "text/plain": [
       "506869"
      ]
     },
     "execution_count": 7,
     "metadata": {},
     "output_type": "execute_result"
    }
   ],
   "source": [
    "get_score_1(real_input)"
   ]
  },
  {
   "cell_type": "code",
   "execution_count": 11,
   "metadata": {},
   "outputs": [
    {
     "data": {
      "text/plain": [
       "('rn', '1')"
      ]
     },
     "execution_count": 11,
     "metadata": {},
     "output_type": "execute_result"
    }
   ],
   "source": [
    "def split_word(word):\n",
    "    if word[-1] == \"-\":\n",
    "        return word[:-1], word[-1]\n",
    "    else:\n",
    "        return word[:-2], word[-1]\n",
    "    \n",
    "label = lambda split: split[0]\n",
    "action = lambda split: split[1]\n",
    "\n",
    "split_word(test_input[0])"
   ]
  },
  {
   "cell_type": "code",
   "execution_count": 12,
   "metadata": {},
   "outputs": [
    {
     "data": {
      "text/plain": [
       "0"
      ]
     },
     "execution_count": 12,
     "metadata": {},
     "output_type": "execute_result"
    }
   ],
   "source": [
    "def get_box(split):\n",
    "    return hash(label(split))\n",
    "\n",
    "get_box(split_word(test_input[0]))"
   ]
  },
  {
   "cell_type": "code",
   "execution_count": 44,
   "metadata": {},
   "outputs": [
    {
     "data": {
      "text/plain": [
       "([('rn', '1')], {'n', 'r'})"
      ]
     },
     "execution_count": 44,
     "metadata": {},
     "output_type": "execute_result"
    }
   ],
   "source": [
    "def remove_label(box, l):\n",
    "    return [split for split in box[0] if label(split) != l], box[1]\n",
    "\n",
    "def add_split(box, split):\n",
    "    for i, s in enumerate(box[0]):\n",
    "        if label(s) == label(split):\n",
    "            return box[0][:i] + [split] + box[0][i+1:], box[1]\n",
    "    return box[0] + [split], box[1] | set(label(split))\n",
    "\n",
    "def perform_action(box, split):\n",
    "    if action(split) == \"-\":\n",
    "        return remove_label(box, label(split))\n",
    "    else:\n",
    "        return add_split(box, split)\n",
    "\n",
    "perform_action(([],set()), split_word(test_input[0]))"
   ]
  },
  {
   "cell_type": "code",
   "execution_count": 45,
   "metadata": {},
   "outputs": [
    {
     "data": {
      "text/plain": [
       "[(0, [('rn', '1'), ('cm', '2')]), (3, [('ot', '7'), ('ab', '5'), ('pc', '6')])]"
      ]
     },
     "execution_count": 45,
     "metadata": {},
     "output_type": "execute_result"
    }
   ],
   "source": [
    "def create_boxes(words):\n",
    "    boxes = [([], set()) for _ in range(256)]\n",
    "    for split in map(split_word, words):\n",
    "        box_index = get_box(split)\n",
    "        boxes[box_index] = perform_action(boxes[box_index], split)\n",
    "    return [box for box, s in boxes]\n",
    "\n",
    "[(i, e) for i, e in enumerate(create_boxes(test_input)) if e]"
   ]
  },
  {
   "cell_type": "code",
   "execution_count": 46,
   "metadata": {},
   "outputs": [
    {
     "data": {
      "text/plain": [
       "140"
      ]
     },
     "execution_count": 46,
     "metadata": {},
     "output_type": "execute_result"
    }
   ],
   "source": [
    "def get_box_score(box):\n",
    "    return sum((i+1)*int(action(split)) for i, split in enumerate(box))\n",
    "\n",
    "get_box_score(create_boxes(test_input)[3]) * 4"
   ]
  },
  {
   "cell_type": "code",
   "execution_count": 47,
   "metadata": {},
   "outputs": [
    {
     "data": {
      "text/plain": [
       "145"
      ]
     },
     "execution_count": 47,
     "metadata": {},
     "output_type": "execute_result"
    }
   ],
   "source": [
    "def get_score_2(words):\n",
    "    boxes = create_boxes(words)\n",
    "    return sum((i+1)*get_box_score(box) for i,box in enumerate(boxes))\n",
    "\n",
    "get_score_2(test_input) "
   ]
  },
  {
   "cell_type": "code",
   "execution_count": 48,
   "metadata": {},
   "outputs": [
    {
     "data": {
      "text/plain": [
       "271384"
      ]
     },
     "execution_count": 48,
     "metadata": {},
     "output_type": "execute_result"
    }
   ],
   "source": [
    "get_score_2(real_input)"
   ]
  }
 ],
 "metadata": {
  "kernelspec": {
   "display_name": "Python 3",
   "language": "python",
   "name": "python3"
  },
  "language_info": {
   "codemirror_mode": {
    "name": "ipython",
    "version": 3
   },
   "file_extension": ".py",
   "mimetype": "text/x-python",
   "name": "python",
   "nbconvert_exporter": "python",
   "pygments_lexer": "ipython3",
   "version": "3.10.0"
  }
 },
 "nbformat": 4,
 "nbformat_minor": 2
}
