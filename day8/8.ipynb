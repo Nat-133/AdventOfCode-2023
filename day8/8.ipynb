{
 "cells": [
  {
   "cell_type": "code",
   "execution_count": 51,
   "metadata": {},
   "outputs": [
    {
     "data": {
      "text/plain": [
       "'LR\\n\\n11A = (11B, XXX)\\n11B = (XXX, 11Z)\\n11Z = (11B, XXX)\\n22A = (22B, XXX)\\n22B = (22C, 22C)\\n22C = (22Z, 22Z)\\n22Z = (22B, 22B)\\nXXX = (XXX, XXX)'"
      ]
     },
     "execution_count": 51,
     "metadata": {},
     "output_type": "execute_result"
    }
   ],
   "source": [
    "with open(\"test_input_1.txt\", \"r\") as f:\n",
    "    test_input_1 = f.read()\n",
    "with open(\"test_input_2.txt\", \"r\") as f:\n",
    "    test_input_2 = f.read()\n",
    "with open(\"input.txt\", \"r\") as f:\n",
    "    real_input = f.read()\n",
    "test_input_1\n"
   ]
  },
  {
   "cell_type": "code",
   "execution_count": 52,
   "metadata": {},
   "outputs": [
    {
     "data": {
      "text/plain": [
       "'LR'"
      ]
     },
     "execution_count": 52,
     "metadata": {},
     "output_type": "execute_result"
    }
   ],
   "source": [
    "def get_steps(raw_input):\n",
    "    return raw_input.split(\"\\n\")[0]\n",
    "\n",
    "get_steps(test_input_1)"
   ]
  },
  {
   "cell_type": "code",
   "execution_count": 53,
   "metadata": {},
   "outputs": [
    {
     "data": {
      "text/plain": [
       "['11A = (11B, XXX)',\n",
       " '11B = (XXX, 11Z)',\n",
       " '11Z = (11B, XXX)',\n",
       " '22A = (22B, XXX)',\n",
       " '22B = (22C, 22C)',\n",
       " '22C = (22Z, 22Z)',\n",
       " '22Z = (22B, 22B)',\n",
       " 'XXX = (XXX, XXX)']"
      ]
     },
     "execution_count": 53,
     "metadata": {},
     "output_type": "execute_result"
    }
   ],
   "source": [
    "def get_route(raw_input):\n",
    "    return raw_input.split(\"\\n\\n\")[1].split(\"\\n\")\n",
    "\n",
    "get_route(test_input_1)\n"
   ]
  },
  {
   "cell_type": "code",
   "execution_count": 54,
   "metadata": {},
   "outputs": [],
   "source": [
    "from collections import namedtuple\n",
    "Node = namedtuple(\"Node\", \"l r\")"
   ]
  },
  {
   "cell_type": "code",
   "execution_count": 55,
   "metadata": {},
   "outputs": [
    {
     "data": {
      "text/plain": [
       "{'11A': Node(l='11B', r='XXX')}"
      ]
     },
     "execution_count": 55,
     "metadata": {},
     "output_type": "execute_result"
    }
   ],
   "source": [
    "def build_node(line):\n",
    "    node, _, raw_left, raw_right = line.split()\n",
    "    left = raw_left[1:-1]\n",
    "    right = raw_right[:-1]\n",
    "    return {node:Node(left, right)}\n",
    "\n",
    "build_node(get_route(test_input_1)[0])"
   ]
  },
  {
   "cell_type": "code",
   "execution_count": 56,
   "metadata": {},
   "outputs": [
    {
     "data": {
      "text/plain": [
       "{'11A': Node(l='11B', r='XXX'),\n",
       " '11B': Node(l='XXX', r='11Z'),\n",
       " '11Z': Node(l='11B', r='XXX'),\n",
       " '22A': Node(l='22B', r='XXX'),\n",
       " '22B': Node(l='22C', r='22C'),\n",
       " '22C': Node(l='22Z', r='22Z'),\n",
       " '22Z': Node(l='22B', r='22B'),\n",
       " 'XXX': Node(l='XXX', r='XXX')}"
      ]
     },
     "execution_count": 56,
     "metadata": {},
     "output_type": "execute_result"
    }
   ],
   "source": [
    "def build_graph(lines):\n",
    "    graph = dict()\n",
    "    for line in lines:\n",
    "        graph = graph | build_node(line)\n",
    "    return graph\n",
    "\n",
    "build_graph(get_route(test_input_1))"
   ]
  },
  {
   "cell_type": "code",
   "execution_count": 57,
   "metadata": {},
   "outputs": [
    {
     "ename": "KeyError",
     "evalue": "'AAA'",
     "output_type": "error",
     "traceback": [
      "\u001b[0;31m---------------------------------------------------------------------------\u001b[0m",
      "\u001b[0;31mKeyError\u001b[0m                                  Traceback (most recent call last)",
      "Cell \u001b[0;32mIn[57], line 14\u001b[0m\n\u001b[1;32m     10\u001b[0m             \u001b[38;5;28;01mreturn\u001b[39;00m i\u001b[38;5;241m+\u001b[39m\u001b[38;5;241m1\u001b[39m\n\u001b[1;32m     12\u001b[0m         current_node \u001b[38;5;241m=\u001b[39m graph[new_node_id]\n\u001b[0;32m---> 14\u001b[0m \u001b[43mcalculate_steps_to_end\u001b[49m\u001b[43m(\u001b[49m\u001b[43mbuild_graph\u001b[49m\u001b[43m(\u001b[49m\u001b[43mget_route\u001b[49m\u001b[43m(\u001b[49m\u001b[43mtest_input_1\u001b[49m\u001b[43m)\u001b[49m\u001b[43m)\u001b[49m\u001b[43m,\u001b[49m\u001b[43m \u001b[49m\u001b[43mget_steps\u001b[49m\u001b[43m(\u001b[49m\u001b[43mtest_input_1\u001b[49m\u001b[43m)\u001b[49m\u001b[43m)\u001b[49m\n",
      "Cell \u001b[0;32mIn[57], line 5\u001b[0m, in \u001b[0;36mcalculate_steps_to_end\u001b[0;34m(graph, steps)\u001b[0m\n\u001b[1;32m      4\u001b[0m \u001b[38;5;28;01mdef\u001b[39;00m \u001b[38;5;21mcalculate_steps_to_end\u001b[39m(graph, steps):\n\u001b[0;32m----> 5\u001b[0m     current_node \u001b[38;5;241m=\u001b[39m \u001b[43mgraph\u001b[49m\u001b[43m[\u001b[49m\u001b[43mSTART_NODE\u001b[49m\u001b[43m]\u001b[49m\n\u001b[1;32m      6\u001b[0m     \u001b[38;5;28;01mfor\u001b[39;00m i, step \u001b[38;5;129;01min\u001b[39;00m \u001b[38;5;28menumerate\u001b[39m(cycle(steps)):\n\u001b[1;32m      7\u001b[0m         new_node_id \u001b[38;5;241m=\u001b[39m current_node\u001b[38;5;241m.\u001b[39ml \u001b[38;5;28;01mif\u001b[39;00m step \u001b[38;5;241m==\u001b[39m \u001b[38;5;124m\"\u001b[39m\u001b[38;5;124mL\u001b[39m\u001b[38;5;124m\"\u001b[39m \u001b[38;5;28;01melse\u001b[39;00m current_node\u001b[38;5;241m.\u001b[39mr\n",
      "\u001b[0;31mKeyError\u001b[0m: 'AAA'"
     ]
    }
   ],
   "source": [
    "from itertools import cycle\n",
    "START_NODE = \"AAA\"\n",
    "END_NODE = \"ZZZ\"\n",
    "def calculate_steps_to_end(graph, steps):\n",
    "    current_node = graph[START_NODE]\n",
    "    for i, step in enumerate(cycle(steps)):\n",
    "        new_node_id = current_node.l if step == \"L\" else current_node.r\n",
    "\n",
    "        if new_node_id == END_NODE:\n",
    "            return i+1\n",
    "        \n",
    "        current_node = graph[new_node_id]\n",
    "\n",
    "calculate_steps_to_end(build_graph(get_route(test_input_1)), get_steps(test_input_1))"
   ]
  },
  {
   "cell_type": "code",
   "execution_count": null,
   "metadata": {},
   "outputs": [
    {
     "data": {
      "text/plain": [
       "6"
      ]
     },
     "execution_count": 18,
     "metadata": {},
     "output_type": "execute_result"
    }
   ],
   "source": [
    "def get_result_1(raw_input):\n",
    "    return calculate_steps_to_end(build_graph(get_route(raw_input)), get_steps(raw_input))\n",
    "\n",
    "get_result_1(test_input_2)"
   ]
  },
  {
   "cell_type": "code",
   "execution_count": null,
   "metadata": {},
   "outputs": [
    {
     "data": {
      "text/plain": [
       "19099"
      ]
     },
     "execution_count": 33,
     "metadata": {},
     "output_type": "execute_result"
    }
   ],
   "source": [
    "get_result_1(real_input)"
   ]
  },
  {
   "cell_type": "code",
   "execution_count": null,
   "metadata": {},
   "outputs": [
    {
     "data": {
      "text/plain": [
       "['HVA', 'LBA', 'FXA', 'GHA', 'PSA', 'AAA']"
      ]
     },
     "execution_count": 38,
     "metadata": {},
     "output_type": "execute_result"
    }
   ],
   "source": [
    "\n",
    "def get_start_nodes(graph):\n",
    "    return [id for id in graph.keys() if id[-1]==\"A\"]\n",
    "\n",
    "get_start_nodes(build_graph(get_route(real_input)))"
   ]
  },
  {
   "cell_type": "code",
   "execution_count": 74,
   "metadata": {},
   "outputs": [
    {
     "data": {
      "text/plain": [
       "('ZZZ', 19099)"
      ]
     },
     "execution_count": 74,
     "metadata": {},
     "output_type": "execute_result"
    }
   ],
   "source": [
    "def get_advance_function(graph, steps):\n",
    "    loop_cache = {}\n",
    "\n",
    "    def get_steps_to_Z(start_node_id, start_step=0):\n",
    "        nonlocal graph, steps, loop_cache\n",
    "        step_start_index = start_step % len(steps)\n",
    "        try:\n",
    "            return start_step + loop_cache[(start_node_id, step_start_index)]\n",
    "        except KeyError:\n",
    "            pass\n",
    "\n",
    "        current_node = graph[start_node_id]\n",
    "        steps = steps[start_step:] + steps[:start_step]\n",
    "\n",
    "        for i, step in enumerate(cycle(steps)):\n",
    "            new_node_id = current_node.l if step == \"L\" else current_node.r\n",
    "\n",
    "            if new_node_id[-1] == \"Z\":\n",
    "                loop_cache[(new_node_id, step_start_index)] = i + 1\n",
    "                return new_node_id, start_step + i + 1\n",
    "            \n",
    "            current_node = graph[new_node_id]\n",
    "    \n",
    "    return get_steps_to_Z\n",
    "\n",
    "get_steps_to_Z(\"AAA\", build_graph(get_route(real_input)), get_steps(real_input))"
   ]
  },
  {
   "cell_type": "code",
   "execution_count": 77,
   "metadata": {},
   "outputs": [
    {
     "ename": "TypeError",
     "evalue": "cannot unpack non-iterable int object",
     "output_type": "error",
     "traceback": [
      "\u001b[0;31m---------------------------------------------------------------------------\u001b[0m",
      "\u001b[0;31mTypeError\u001b[0m                                 Traceback (most recent call last)",
      "Cell \u001b[0;32mIn[77], line 15\u001b[0m\n\u001b[1;32m     12\u001b[0m \u001b[38;5;28;01mdef\u001b[39;00m \u001b[38;5;21mrun\u001b[39m(raw_input):\n\u001b[1;32m     13\u001b[0m     \u001b[38;5;28;01mreturn\u001b[39;00m get_convergent_steps(build_graph(get_route(raw_input)), get_steps(raw_input))\n\u001b[0;32m---> 15\u001b[0m \u001b[43mrun\u001b[49m\u001b[43m(\u001b[49m\u001b[43mtest_input_1\u001b[49m\u001b[43m)\u001b[49m\n",
      "Cell \u001b[0;32mIn[77], line 13\u001b[0m, in \u001b[0;36mrun\u001b[0;34m(raw_input)\u001b[0m\n\u001b[1;32m     12\u001b[0m \u001b[38;5;28;01mdef\u001b[39;00m \u001b[38;5;21mrun\u001b[39m(raw_input):\n\u001b[0;32m---> 13\u001b[0m     \u001b[38;5;28;01mreturn\u001b[39;00m \u001b[43mget_convergent_steps\u001b[49m\u001b[43m(\u001b[49m\u001b[43mbuild_graph\u001b[49m\u001b[43m(\u001b[49m\u001b[43mget_route\u001b[49m\u001b[43m(\u001b[49m\u001b[43mraw_input\u001b[49m\u001b[43m)\u001b[49m\u001b[43m)\u001b[49m\u001b[43m,\u001b[49m\u001b[43m \u001b[49m\u001b[43mget_steps\u001b[49m\u001b[43m(\u001b[49m\u001b[43mraw_input\u001b[49m\u001b[43m)\u001b[49m\u001b[43m)\u001b[49m\n",
      "Cell \u001b[0;32mIn[77], line 6\u001b[0m, in \u001b[0;36mget_convergent_steps\u001b[0;34m(graph, steps)\u001b[0m\n\u001b[1;32m      3\u001b[0m advance_function \u001b[38;5;241m=\u001b[39m get_advance_function(graph, steps)\n\u001b[1;32m      4\u001b[0m step_counts \u001b[38;5;241m=\u001b[39m [advance_function(\u001b[38;5;28mid\u001b[39m) \u001b[38;5;28;01mfor\u001b[39;00m \u001b[38;5;28mid\u001b[39m \u001b[38;5;129;01min\u001b[39;00m start_nodes]\n\u001b[0;32m----> 6\u001b[0m \u001b[38;5;28;01mwhile\u001b[39;00m \u001b[38;5;28;43many\u001b[39;49m\u001b[43m(\u001b[49m\u001b[43mstep_count\u001b[49m\u001b[43m \u001b[49m\u001b[38;5;241;43m!=\u001b[39;49m\u001b[43m \u001b[49m\u001b[43mstep_counts\u001b[49m\u001b[43m[\u001b[49m\u001b[38;5;241;43m0\u001b[39;49m\u001b[43m]\u001b[49m\u001b[43m[\u001b[49m\u001b[38;5;241;43m1\u001b[39;49m\u001b[43m]\u001b[49m\u001b[43m \u001b[49m\u001b[38;5;28;43;01mfor\u001b[39;49;00m\u001b[43m \u001b[49m\u001b[43m_\u001b[49m\u001b[43m,\u001b[49m\u001b[43m \u001b[49m\u001b[43mstep_count\u001b[49m\u001b[43m \u001b[49m\u001b[38;5;129;43;01min\u001b[39;49;00m\u001b[43m \u001b[49m\u001b[43mstep_counts\u001b[49m\u001b[43m)\u001b[49m:\n\u001b[1;32m      7\u001b[0m     to_advance \u001b[38;5;241m=\u001b[39m \u001b[38;5;28mmin\u001b[39m(step_counts, key\u001b[38;5;241m=\u001b[39m\u001b[38;5;28;01mlambda\u001b[39;00m x: x[\u001b[38;5;241m1\u001b[39m])\n\u001b[1;32m      8\u001b[0m     step_counts[step_counts\u001b[38;5;241m.\u001b[39mindex(to_advance)] \u001b[38;5;241m=\u001b[39m advance_function(to_advance[\u001b[38;5;241m0\u001b[39m], start_step\u001b[38;5;241m=\u001b[39mto_advance[\u001b[38;5;241m1\u001b[39m])\n",
      "Cell \u001b[0;32mIn[77], line 6\u001b[0m, in \u001b[0;36m<genexpr>\u001b[0;34m(.0)\u001b[0m\n\u001b[1;32m      3\u001b[0m advance_function \u001b[38;5;241m=\u001b[39m get_advance_function(graph, steps)\n\u001b[1;32m      4\u001b[0m step_counts \u001b[38;5;241m=\u001b[39m [advance_function(\u001b[38;5;28mid\u001b[39m) \u001b[38;5;28;01mfor\u001b[39;00m \u001b[38;5;28mid\u001b[39m \u001b[38;5;129;01min\u001b[39;00m start_nodes]\n\u001b[0;32m----> 6\u001b[0m \u001b[38;5;28;01mwhile\u001b[39;00m \u001b[38;5;28many\u001b[39m(step_count \u001b[38;5;241m!=\u001b[39m step_counts[\u001b[38;5;241m0\u001b[39m][\u001b[38;5;241m1\u001b[39m] \u001b[38;5;28;01mfor\u001b[39;00m _, step_count \u001b[38;5;129;01min\u001b[39;00m step_counts):\n\u001b[1;32m      7\u001b[0m     to_advance \u001b[38;5;241m=\u001b[39m \u001b[38;5;28mmin\u001b[39m(step_counts, key\u001b[38;5;241m=\u001b[39m\u001b[38;5;28;01mlambda\u001b[39;00m x: x[\u001b[38;5;241m1\u001b[39m])\n\u001b[1;32m      8\u001b[0m     step_counts[step_counts\u001b[38;5;241m.\u001b[39mindex(to_advance)] \u001b[38;5;241m=\u001b[39m advance_function(to_advance[\u001b[38;5;241m0\u001b[39m], start_step\u001b[38;5;241m=\u001b[39mto_advance[\u001b[38;5;241m1\u001b[39m])\n",
      "\u001b[0;31mTypeError\u001b[0m: cannot unpack non-iterable int object"
     ]
    }
   ],
   "source": [
    "def get_convergent_steps(graph, steps):\n",
    "    start_nodes = get_start_nodes(graph)\n",
    "    advance_function = get_advance_function(graph, steps)\n",
    "    step_counts = [advance_function(id) for id in start_nodes]\n",
    "\n",
    "    while any(step_count != step_counts[0][1] for _, step_count in step_counts):\n",
    "        to_advance = min(step_counts, key=lambda x: x[1])\n",
    "        step_counts[step_counts.index(to_advance)] = advance_function(to_advance[0], start_step=to_advance[1])\n",
    "\n",
    "    return step_counts[0][1]\n",
    "\n",
    "def run(raw_input):\n",
    "    return get_convergent_steps(build_graph(get_route(raw_input)), get_steps(raw_input))\n",
    "\n",
    "run(test_input_1)\n",
    "    \n",
    "    \n"
   ]
  },
  {
   "cell_type": "code",
   "execution_count": 66,
   "metadata": {},
   "outputs": [
    {
     "ename": "KeyboardInterrupt",
     "evalue": "",
     "output_type": "error",
     "traceback": [
      "\u001b[0;31m---------------------------------------------------------------------------\u001b[0m",
      "\u001b[0;31mKeyboardInterrupt\u001b[0m                         Traceback (most recent call last)",
      "Cell \u001b[0;32mIn[66], line 1\u001b[0m\n\u001b[0;32m----> 1\u001b[0m \u001b[43mrun\u001b[49m\u001b[43m(\u001b[49m\u001b[43mreal_input\u001b[49m\u001b[43m)\u001b[49m\n",
      "Cell \u001b[0;32mIn[65], line 12\u001b[0m, in \u001b[0;36mrun\u001b[0;34m(raw_input)\u001b[0m\n\u001b[1;32m     11\u001b[0m \u001b[38;5;28;01mdef\u001b[39;00m \u001b[38;5;21mrun\u001b[39m(raw_input):\n\u001b[0;32m---> 12\u001b[0m     \u001b[38;5;28;01mreturn\u001b[39;00m \u001b[43mget_convergent_steps\u001b[49m\u001b[43m(\u001b[49m\u001b[43mbuild_graph\u001b[49m\u001b[43m(\u001b[49m\u001b[43mget_route\u001b[49m\u001b[43m(\u001b[49m\u001b[43mraw_input\u001b[49m\u001b[43m)\u001b[49m\u001b[43m)\u001b[49m\u001b[43m,\u001b[49m\u001b[43m \u001b[49m\u001b[43mget_steps\u001b[49m\u001b[43m(\u001b[49m\u001b[43mraw_input\u001b[49m\u001b[43m)\u001b[49m\u001b[43m)\u001b[49m\n",
      "Cell \u001b[0;32mIn[65], line 7\u001b[0m, in \u001b[0;36mget_convergent_steps\u001b[0;34m(graph, steps)\u001b[0m\n\u001b[1;32m      5\u001b[0m \u001b[38;5;28;01mwhile\u001b[39;00m \u001b[38;5;28many\u001b[39m(step_count \u001b[38;5;241m!=\u001b[39m step_counts[\u001b[38;5;241m0\u001b[39m][\u001b[38;5;241m1\u001b[39m] \u001b[38;5;28;01mfor\u001b[39;00m _, step_count \u001b[38;5;129;01min\u001b[39;00m step_counts):\n\u001b[1;32m      6\u001b[0m     to_advance \u001b[38;5;241m=\u001b[39m \u001b[38;5;28mmin\u001b[39m(step_counts, key\u001b[38;5;241m=\u001b[39m\u001b[38;5;28;01mlambda\u001b[39;00m x: x[\u001b[38;5;241m1\u001b[39m])\n\u001b[0;32m----> 7\u001b[0m     step_counts[step_counts\u001b[38;5;241m.\u001b[39mindex(to_advance)] \u001b[38;5;241m=\u001b[39m \u001b[43mget_steps_to_Z\u001b[49m\u001b[43m(\u001b[49m\u001b[43mto_advance\u001b[49m\u001b[43m[\u001b[49m\u001b[38;5;241;43m0\u001b[39;49m\u001b[43m]\u001b[49m\u001b[43m,\u001b[49m\u001b[43m \u001b[49m\u001b[43mgraph\u001b[49m\u001b[43m,\u001b[49m\u001b[43m \u001b[49m\u001b[43msteps\u001b[49m\u001b[43m,\u001b[49m\u001b[43m \u001b[49m\u001b[43mstart_step\u001b[49m\u001b[38;5;241;43m=\u001b[39;49m\u001b[43mto_advance\u001b[49m\u001b[43m[\u001b[49m\u001b[38;5;241;43m1\u001b[39;49m\u001b[43m]\u001b[49m\u001b[43m)\u001b[49m\n\u001b[1;32m      9\u001b[0m \u001b[38;5;28;01mreturn\u001b[39;00m step_counts[\u001b[38;5;241m0\u001b[39m][\u001b[38;5;241m1\u001b[39m]\n",
      "Cell \u001b[0;32mIn[62], line 5\u001b[0m, in \u001b[0;36mget_steps_to_Z\u001b[0;34m(start_node_id, graph, steps, start_step)\u001b[0m\n\u001b[1;32m      2\u001b[0m current_node \u001b[38;5;241m=\u001b[39m graph[start_node_id]\n\u001b[1;32m      3\u001b[0m steps \u001b[38;5;241m=\u001b[39m steps[start_step:] \u001b[38;5;241m+\u001b[39m steps[:start_step]\n\u001b[0;32m----> 5\u001b[0m \u001b[38;5;28;01mfor\u001b[39;00m i, step \u001b[38;5;129;01min\u001b[39;00m \u001b[38;5;28menumerate\u001b[39m(\u001b[43mcycle\u001b[49m\u001b[43m(\u001b[49m\u001b[43msteps\u001b[49m\u001b[43m)\u001b[49m):\n\u001b[1;32m      6\u001b[0m     new_node_id \u001b[38;5;241m=\u001b[39m current_node\u001b[38;5;241m.\u001b[39ml \u001b[38;5;28;01mif\u001b[39;00m step \u001b[38;5;241m==\u001b[39m \u001b[38;5;124m\"\u001b[39m\u001b[38;5;124mL\u001b[39m\u001b[38;5;124m\"\u001b[39m \u001b[38;5;28;01melse\u001b[39;00m current_node\u001b[38;5;241m.\u001b[39mr\n\u001b[1;32m      8\u001b[0m     \u001b[38;5;28;01mif\u001b[39;00m new_node_id[\u001b[38;5;241m-\u001b[39m\u001b[38;5;241m1\u001b[39m] \u001b[38;5;241m==\u001b[39m \u001b[38;5;124m\"\u001b[39m\u001b[38;5;124mZ\u001b[39m\u001b[38;5;124m\"\u001b[39m:\n",
      "\u001b[0;31mKeyboardInterrupt\u001b[0m: "
     ]
    }
   ],
   "source": [
    "run(real_input)"
   ]
  }
 ],
 "metadata": {
  "kernelspec": {
   "display_name": "Python 3",
   "language": "python",
   "name": "python3"
  },
  "language_info": {
   "codemirror_mode": {
    "name": "ipython",
    "version": 3
   },
   "file_extension": ".py",
   "mimetype": "text/x-python",
   "name": "python",
   "nbconvert_exporter": "python",
   "pygments_lexer": "ipython3",
   "version": "3.10.0"
  }
 },
 "nbformat": 4,
 "nbformat_minor": 2
}
