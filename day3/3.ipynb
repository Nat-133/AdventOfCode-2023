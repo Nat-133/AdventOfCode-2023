{
 "cells": [
  {
   "cell_type": "code",
   "execution_count": 21,
   "metadata": {},
   "outputs": [],
   "source": [
    "from itertools import product"
   ]
  },
  {
   "cell_type": "code",
   "execution_count": 16,
   "metadata": {},
   "outputs": [
    {
     "data": {
      "text/plain": [
       "['............',\n",
       " '.467..114...',\n",
       " '....*.......',\n",
       " '...35..633..',\n",
       " '.......#....',\n",
       " '.617*.......',\n",
       " '......+.58..',\n",
       " '...592......',\n",
       " '.......755..',\n",
       " '....$.*.....',\n",
       " '..664.598...',\n",
       " '............']"
      ]
     },
     "execution_count": 16,
     "metadata": {},
     "output_type": "execute_result"
    }
   ],
   "source": [
    "test_input = \"\"\"467..114..\n",
    "...*......\n",
    "..35..633.\n",
    "......#...\n",
    "617*......\n",
    ".....+.58.\n",
    "..592.....\n",
    "......755.\n",
    "...$.*....\n",
    ".664.598..\"\"\".split(\"\\n\")\n",
    "\n",
    "with open(\"input.txt\", \"r\") as f:\n",
    "    real_input = f.read().split(\"\\n\")\n",
    "\n",
    "test_input\n",
    "\n",
    "def pad_input(raw):\n",
    "    left_right_padding = [\".\"+line+\".\" for line in raw]\n",
    "    length = len(left_right_padding[0])\n",
    "    top_bottom_padding = [\".\" * length]\n",
    "    return top_bottom_padding + left_right_padding + top_bottom_padding\n",
    "\n",
    "real_input = pad_input(real_input)\n",
    "test_input = pad_input(test_input)\n",
    "test_input\n"
   ]
  },
  {
   "cell_type": "code",
   "execution_count": 103,
   "metadata": {},
   "outputs": [
    {
     "name": "stdout",
     "output_type": "stream",
     "text": [
      "(2, 4) (4, 7) (5, 4) (6, 6) (9, 4) (9, 6)\n",
      "* # * + $ *\n"
     ]
    }
   ],
   "source": [
    "DIGITS = \"0123456789\"\n",
    "NON_SYMBOLS = DIGITS + \".\"\n",
    "def get_symbol_indexes(lines):\n",
    "    indexes = [(i,j) for i,l in enumerate(lines) for j,c in enumerate(l) if c not in NON_SYMBOLS]\n",
    "    return indexes\n",
    "\n",
    "print(*get_symbol_indexes(test_input))\n",
    "print(*[test_input[i][j] for i,j in get_symbol_indexes(test_input)])"
   ]
  },
  {
   "cell_type": "code",
   "execution_count": 102,
   "metadata": {},
   "outputs": [
    {
     "data": {
      "text/plain": [
       "(1, 1, 467)"
      ]
     },
     "execution_count": 102,
     "metadata": {},
     "output_type": "execute_result"
    }
   ],
   "source": [
    "def get_number(lines, i, j):\n",
    "    c = lines[i][j]\n",
    "    if c not in DIGITS:\n",
    "        return (0, 0, 0)\n",
    "    \n",
    "    line = lines[i]\n",
    "    start = next(j-k+1 for k,d in enumerate(line[j::-1]) if d not in DIGITS)\n",
    "    end   = next(j+k for k,d in enumerate(line[j::]) if d not in DIGITS)\n",
    "    return (i, start, int(line[start:end]))\n",
    "\n",
    "get_number(test_input, 1, 2)"
   ]
  },
  {
   "cell_type": "code",
   "execution_count": 100,
   "metadata": {},
   "outputs": [
    {
     "data": {
      "text/plain": [
       "{(0, 0, 0), (1, 1, 467), (3, 3, 35)}"
      ]
     },
     "execution_count": 100,
     "metadata": {},
     "output_type": "execute_result"
    }
   ],
   "source": [
    "def get_neigbours(lines, i, j):\n",
    "    to_check = [(i+di, j+dj) for di, dj in product(range(-1, 2), range(-1, 2)) if (di,dj) != (0,0)]\n",
    "    \n",
    "    return {get_number(lines, k, l) for k,l in to_check}\n",
    "\n",
    "get_neigbours(test_input, 2, 4)"
   ]
  },
  {
   "cell_type": "code",
   "execution_count": 104,
   "metadata": {},
   "outputs": [
    {
     "data": {
      "text/plain": [
       "{(0, 0, 0),\n",
       " (1, 1, 467),\n",
       " (3, 3, 35),\n",
       " (3, 7, 633),\n",
       " (5, 1, 617),\n",
       " (7, 3, 592),\n",
       " (8, 7, 755),\n",
       " (10, 2, 664),\n",
       " (10, 6, 598)}"
      ]
     },
     "execution_count": 104,
     "metadata": {},
     "output_type": "execute_result"
    }
   ],
   "source": [
    "def get_part_numbers(lines, symbol_indexes):\n",
    "    return set().union(*[get_neigbours(lines, i, j) for i,j in symbol_indexes])\n",
    "\n",
    "get_part_numbers(test_input, get_symbol_indexes(test_input))"
   ]
  },
  {
   "cell_type": "code",
   "execution_count": 106,
   "metadata": {},
   "outputs": [
    {
     "data": {
      "text/plain": [
       "512794"
      ]
     },
     "execution_count": 106,
     "metadata": {},
     "output_type": "execute_result"
    }
   ],
   "source": [
    "def get_score_1(lines):\n",
    "    return sum([n for _,_,n in get_part_numbers(lines, get_symbol_indexes(lines))])\n",
    "\n",
    "get_score_1(real_input)"
   ]
  },
  {
   "cell_type": "code",
   "execution_count": 107,
   "metadata": {},
   "outputs": [
    {
     "data": {
      "text/plain": [
       "[(2, 4), (5, 4), (9, 6)]"
      ]
     },
     "execution_count": 107,
     "metadata": {},
     "output_type": "execute_result"
    }
   ],
   "source": [
    "def get_potential_gear_indexes(lines):\n",
    "    return [(i,j) for i,j in get_symbol_indexes(lines) if lines[i][j] == \"*\"]\n",
    "\n",
    "get_potential_gear_indexes(test_input)"
   ]
  },
  {
   "cell_type": "code",
   "execution_count": 111,
   "metadata": {},
   "outputs": [
    {
     "data": {
      "text/plain": [
       "16345"
      ]
     },
     "execution_count": 111,
     "metadata": {},
     "output_type": "execute_result"
    }
   ],
   "source": [
    "def get_ratio(lines, i, j):\n",
    "    numbers = [n for _,_,n in get_neigbours(lines,i, j) if n != 0]\n",
    "    return numbers[0] * numbers[1] if len(numbers) == 2 else 0\n",
    "\n",
    "get_ratio(test_input, 2,4)"
   ]
  },
  {
   "cell_type": "code",
   "execution_count": 112,
   "metadata": {},
   "outputs": [
    {
     "data": {
      "text/plain": [
       "467835"
      ]
     },
     "execution_count": 112,
     "metadata": {},
     "output_type": "execute_result"
    }
   ],
   "source": [
    "def get_score_2(lines):\n",
    "    return sum(get_ratio(lines, i, j) for i,j in get_potential_gear_indexes(lines))\n",
    "\n",
    "get_score_2(test_input)"
   ]
  },
  {
   "cell_type": "code",
   "execution_count": 113,
   "metadata": {},
   "outputs": [
    {
     "data": {
      "text/plain": [
       "67779080"
      ]
     },
     "execution_count": 113,
     "metadata": {},
     "output_type": "execute_result"
    }
   ],
   "source": [
    "get_score_2(real_input)"
   ]
  }
 ],
 "metadata": {
  "kernelspec": {
   "display_name": "Python 3",
   "language": "python",
   "name": "python3"
  },
  "language_info": {
   "codemirror_mode": {
    "name": "ipython",
    "version": 3
   },
   "file_extension": ".py",
   "mimetype": "text/x-python",
   "name": "python",
   "nbconvert_exporter": "python",
   "pygments_lexer": "ipython3",
   "version": "3.10.5"
  }
 },
 "nbformat": 4,
 "nbformat_minor": 2
}
