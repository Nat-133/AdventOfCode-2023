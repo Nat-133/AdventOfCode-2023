{
 "cells": [
  {
   "cell_type": "code",
   "execution_count": 11,
   "metadata": {},
   "outputs": [
    {
     "data": {
      "text/plain": [
       "'LR\\n\\nAAA = (11B, XXX)\\n11B = (XXX, ZZZ)\\nZZZ = (11B, XXX)\\n22A = (22B, XXX)\\n22B = (22C, 22C)\\n22C = (22Z, 22Z)\\n22Z = (22B, 22B)\\nXXX = (XXX, XXX)'"
      ]
     },
     "execution_count": 11,
     "metadata": {},
     "output_type": "execute_result"
    }
   ],
   "source": [
    "with open(\"test_input_1.txt\", \"r\") as f:\n",
    "    test_input_1 = f.read()\n",
    "with open(\"test_input_2.txt\", \"r\") as f:\n",
    "    test_input_2 = f.read()\n",
    "\n",
    "test_input_1\n"
   ]
  },
  {
   "cell_type": "code",
   "execution_count": 12,
   "metadata": {},
   "outputs": [
    {
     "data": {
      "text/plain": [
       "'LR'"
      ]
     },
     "execution_count": 12,
     "metadata": {},
     "output_type": "execute_result"
    }
   ],
   "source": [
    "def get_steps(raw_input):\n",
    "    return raw_input.split(\"\\n\")[0]\n",
    "\n",
    "get_steps(test_input_1)"
   ]
  },
  {
   "cell_type": "code",
   "execution_count": 13,
   "metadata": {},
   "outputs": [
    {
     "data": {
      "text/plain": [
       "['AAA = (11B, XXX)',\n",
       " '11B = (XXX, ZZZ)',\n",
       " 'ZZZ = (11B, XXX)',\n",
       " '22A = (22B, XXX)',\n",
       " '22B = (22C, 22C)',\n",
       " '22C = (22Z, 22Z)',\n",
       " '22Z = (22B, 22B)',\n",
       " 'XXX = (XXX, XXX)']"
      ]
     },
     "execution_count": 13,
     "metadata": {},
     "output_type": "execute_result"
    }
   ],
   "source": [
    "def get_route(raw_input):\n",
    "    return raw_input.split(\"\\n\\n\")[1].split(\"\\n\")\n",
    "\n",
    "get_route(test_input_1)\n"
   ]
  },
  {
   "cell_type": "code",
   "execution_count": 14,
   "metadata": {},
   "outputs": [],
   "source": [
    "from collections import namedtuple\n",
    "Node = namedtuple(\"Node\", \"l r\")"
   ]
  },
  {
   "cell_type": "code",
   "execution_count": 15,
   "metadata": {},
   "outputs": [
    {
     "data": {
      "text/plain": [
       "{'AAA': Node(l='11B', r='XXX')}"
      ]
     },
     "execution_count": 15,
     "metadata": {},
     "output_type": "execute_result"
    }
   ],
   "source": [
    "def build_node(line):\n",
    "    node, _, raw_left, raw_right = line.split()\n",
    "    left = raw_left[1:-1]\n",
    "    right = raw_right[:-1]\n",
    "    return {node:Node(left, right)}\n",
    "\n",
    "build_node(get_route(test_input_1)[0])"
   ]
  },
  {
   "cell_type": "code",
   "execution_count": 16,
   "metadata": {},
   "outputs": [
    {
     "data": {
      "text/plain": [
       "{'AAA': Node(l='11B', r='XXX'),\n",
       " '11B': Node(l='XXX', r='ZZZ'),\n",
       " 'ZZZ': Node(l='11B', r='XXX'),\n",
       " '22A': Node(l='22B', r='XXX'),\n",
       " '22B': Node(l='22C', r='22C'),\n",
       " '22C': Node(l='22Z', r='22Z'),\n",
       " '22Z': Node(l='22B', r='22B'),\n",
       " 'XXX': Node(l='XXX', r='XXX')}"
      ]
     },
     "execution_count": 16,
     "metadata": {},
     "output_type": "execute_result"
    }
   ],
   "source": [
    "def build_graph(lines):\n",
    "    graph = dict()\n",
    "    for line in lines:\n",
    "        graph = graph | build_node(line)\n",
    "    return graph\n",
    "\n",
    "build_graph(get_route(test_input_1))"
   ]
  },
  {
   "cell_type": "code",
   "execution_count": 17,
   "metadata": {},
   "outputs": [
    {
     "data": {
      "text/plain": [
       "2"
      ]
     },
     "execution_count": 17,
     "metadata": {},
     "output_type": "execute_result"
    }
   ],
   "source": [
    "from itertools import cycle\n",
    "START_NODE = \"AAA\"\n",
    "END_NODE = \"ZZZ\"\n",
    "def calculate_steps_to_end(graph, steps):\n",
    "    current_node = graph[START_NODE]\n",
    "    for i, step in enumerate(cycle(steps)):\n",
    "        new_node_id = current_node.l if step == \"L\" else current_node.r\n",
    "\n",
    "        if new_node_id == END_NODE:\n",
    "            return i+1\n",
    "        \n",
    "        current_node = graph[new_node_id]\n",
    "\n",
    "calculate_steps_to_end(build_graph(get_route(test_input_1)), get_steps(test_input_1))"
   ]
  },
  {
   "cell_type": "code",
   "execution_count": 18,
   "metadata": {},
   "outputs": [
    {
     "data": {
      "text/plain": [
       "6"
      ]
     },
     "execution_count": 18,
     "metadata": {},
     "output_type": "execute_result"
    }
   ],
   "source": [
    "def get_result_1(raw_input):\n",
    "    return calculate_steps_to_end(build_graph(get_route(raw_input)), get_steps(raw_input))\n",
    "\n",
    "get_result_1(test_input_2)"
   ]
  },
  {
   "cell_type": "code",
   "execution_count": null,
   "metadata": {},
   "outputs": [],
   "source": []
  }
 ],
 "metadata": {
  "kernelspec": {
   "display_name": "Python 3",
   "language": "python",
   "name": "python3"
  },
  "language_info": {
   "codemirror_mode": {
    "name": "ipython",
    "version": 3
   },
   "file_extension": ".py",
   "mimetype": "text/x-python",
   "name": "python",
   "nbconvert_exporter": "python",
   "pygments_lexer": "ipython3",
   "version": "3.10.0"
  }
 },
 "nbformat": 4,
 "nbformat_minor": 2
}
