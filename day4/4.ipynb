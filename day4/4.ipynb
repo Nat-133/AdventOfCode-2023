{
 "cells": [
  {
   "cell_type": "code",
   "execution_count": 22,
   "metadata": {},
   "outputs": [],
   "source": [
    "inf = float(\"inf\")"
   ]
  },
  {
   "cell_type": "code",
   "execution_count": 1,
   "metadata": {},
   "outputs": [
    {
     "data": {
      "text/plain": [
       "['Card 1: 41 48 83 86 17 | 83 86  6 31 17  9 48 53',\n",
       " 'Card 2: 13 32 20 16 61 | 61 30 68 82 17 32 24 19',\n",
       " 'Card 3:  1 21 53 59 44 | 69 82 63 72 16 21 14  1',\n",
       " 'Card 4: 41 92 73 84 69 | 59 84 76 51 58  5 54 83',\n",
       " 'Card 5: 87 83 26 28 32 | 88 30 70 12 93 22 82 36',\n",
       " 'Card 6: 31 18 13 56 72 | 74 77 10 23 35 67 36 11']"
      ]
     },
     "execution_count": 1,
     "metadata": {},
     "output_type": "execute_result"
    }
   ],
   "source": [
    "with open(\"input.txt\", \"r\") as f:\n",
    "    real_input = f.read().split(\"\\n\")\n",
    "\n",
    "with open(\"test_input.txt\", \"r\") as f:\n",
    "    test_input = f.read().split(\"\\n\")\n",
    "\n",
    "test_input"
   ]
  },
  {
   "cell_type": "code",
   "execution_count": 59,
   "metadata": {},
   "outputs": [
    {
     "data": {
      "text/plain": [
       "(2, '13 32 20 16 61 | 61 30 68 82 17 32 24 19')"
      ]
     },
     "execution_count": 59,
     "metadata": {},
     "output_type": "execute_result"
    }
   ],
   "source": [
    "def parse_card_id(line):\n",
    "    header, numbers = line.split(\": \")\n",
    "    return int(header.split()[1]), numbers\n",
    "\n",
    "parse_card_id(test_input[1])"
   ]
  },
  {
   "cell_type": "code",
   "execution_count": 13,
   "metadata": {},
   "outputs": [],
   "source": [
    "def bag(elements):\n",
    "    return {e:elements.count(e) for e in set(elements)}"
   ]
  },
  {
   "cell_type": "code",
   "execution_count": 40,
   "metadata": {},
   "outputs": [
    {
     "data": {
      "text/plain": [
       "({32: 1, 13: 1, 16: 1, 20: 1, 61: 1},\n",
       " {32: 1, 68: 1, 17: 1, 82: 1, 19: 1, 24: 1, 61: 1, 30: 1})"
      ]
     },
     "execution_count": 40,
     "metadata": {},
     "output_type": "execute_result"
    }
   ],
   "source": [
    "def parse_numbers(numbers):\n",
    "    left, right = numbers.split(\" | \")\n",
    "    return bag(list(map(int, left.split()))), bag(list(map(int, right.split())))\n",
    "\n",
    "parse_numbers(parse_card_id(test_input[1])[1])"
   ]
  },
  {
   "cell_type": "code",
   "execution_count": 45,
   "metadata": {},
   "outputs": [
    {
     "data": {
      "text/plain": [
       "{32: 1, 61: 1}"
      ]
     },
     "execution_count": 45,
     "metadata": {},
     "output_type": "execute_result"
    }
   ],
   "source": [
    "def get_else_inf(bag, v):\n",
    "    return bag[v] if v in bag else inf\n",
    "\n",
    "def get_intersection(bag1, bag2):\n",
    "    all_items = set(bag1.keys()).intersection(set(bag2.keys()))\n",
    "    return {e:min(bag1[e], bag2[e]) for e in all_items}\n",
    "\n",
    "get_intersection(*parse_numbers(parse_card_id(test_input[1])[1]))"
   ]
  },
  {
   "cell_type": "code",
   "execution_count": 63,
   "metadata": {},
   "outputs": [
    {
     "data": {
      "text/plain": [
       "8"
      ]
     },
     "execution_count": 63,
     "metadata": {},
     "output_type": "execute_result"
    }
   ],
   "source": [
    "def get_matches(bag1, bag2):\n",
    "    return sum(get_intersection(bag1, bag2).values())\n",
    "\n",
    "def get_points(bag1, bag2):\n",
    "    matches = get_matches(bag1, bag2)\n",
    "    return 2**(matches-1) if matches else 0\n",
    "\n",
    "get_points(*parse_numbers(parse_card_id(test_input[0])[1]))"
   ]
  },
  {
   "cell_type": "code",
   "execution_count": 57,
   "metadata": {},
   "outputs": [
    {
     "data": {
      "text/plain": [
       "13"
      ]
     },
     "execution_count": 57,
     "metadata": {},
     "output_type": "execute_result"
    }
   ],
   "source": [
    "def get_score_1(lines):\n",
    "    return sum(get_points(*parse_numbers(parse_card_id(line)[1])) for line in lines)\n",
    "\n",
    "get_score_1(test_input)"
   ]
  },
  {
   "cell_type": "code",
   "execution_count": 58,
   "metadata": {},
   "outputs": [
    {
     "data": {
      "text/plain": [
       "25231"
      ]
     },
     "execution_count": 58,
     "metadata": {},
     "output_type": "execute_result"
    }
   ],
   "source": [
    "get_score_1(real_input)"
   ]
  },
  {
   "cell_type": "code",
   "execution_count": 79,
   "metadata": {},
   "outputs": [
    {
     "data": {
      "text/plain": [
       "[2, 3, 4, 5]"
      ]
     },
     "execution_count": 79,
     "metadata": {},
     "output_type": "execute_result"
    }
   ],
   "source": [
    "def get_copies(line):\n",
    "    id, numbers = parse_card_id(line)\n",
    "    return [i+id+1 for i in range(get_matches(*parse_numbers(numbers)))]\n",
    "\n",
    "get_copies(test_input[0])"
   ]
  },
  {
   "cell_type": "code",
   "execution_count": 71,
   "metadata": {},
   "outputs": [
    {
     "data": {
      "text/plain": [
       "{1: [1, 2, 3, 4], 2: [2, 3], 3: [3, 4], 4: [4], 5: [], 6: []}"
      ]
     },
     "execution_count": 71,
     "metadata": {},
     "output_type": "execute_result"
    }
   ],
   "source": [
    "def get_all_copies(lines):\n",
    "    return {parse_card_id(line)[0]: get_copies(line) for line in lines}\n",
    "\n",
    "get_all_copies(test_input)"
   ]
  },
  {
   "cell_type": "code",
   "execution_count": 72,
   "metadata": {},
   "outputs": [
    {
     "data": {
      "text/plain": [
       "{1: [1], 2: [2], 3: [3], 4: [4], 5: [5], 6: [6]}"
      ]
     },
     "execution_count": 72,
     "metadata": {},
     "output_type": "execute_result"
    }
   ],
   "source": [
    "def init_card_counts(lines):\n",
    "    card_counts = {id:[id] for id in [parse_card_id(line)[0] for line in lines]}\n",
    "    return card_counts\n",
    "\n",
    "init_card_counts(test_input)"
   ]
  },
  {
   "cell_type": "code",
   "execution_count": 80,
   "metadata": {},
   "outputs": [
    {
     "data": {
      "text/plain": [
       "{6: [6],\n",
       " 5: [5],\n",
       " 4: [4, 5],\n",
       " 3: [3, 4, 5, 5],\n",
       " 2: [2, 3, 4, 5, 5, 4, 5],\n",
       " 1: [1, 2, 3, 4, 5, 5, 4, 5, 3, 4, 5, 5, 4, 5, 5]}"
      ]
     },
     "execution_count": 80,
     "metadata": {},
     "output_type": "execute_result"
    }
   ],
   "source": [
    "def calc_card_copies(lines):\n",
    "    initial_copies = get_all_copies(lines)\n",
    "    actual_copies = dict()\n",
    "    for line in lines[::-1]:\n",
    "        id, numbers = parse_card_id(line)\n",
    "        copies = initial_copies[id]\n",
    "        actual_copies[id] = [id]\n",
    "        actual_copies[id] += [id for copy_id in copies for id in actual_copies[copy_id]]\n",
    "    return actual_copies\n",
    "        \n",
    "calc_card_copies(test_input)"
   ]
  },
  {
   "cell_type": "code",
   "execution_count": 87,
   "metadata": {},
   "outputs": [
    {
     "name": "stdout",
     "output_type": "stream",
     "text": [
      "6 5 4 5 3 4 5 5 2 3 4 5 5 4 5 1 2 3 4 5 5 4 5 3 4 5 5 4 5 5\n"
     ]
    }
   ],
   "source": [
    "def calc_card_counts(card_copies):\n",
    "    all_cards = [c for cards in card_copies.values() for c in cards]\n",
    "    \n",
    "    return all_cards\n",
    "\n",
    "print(*calc_card_counts(calc_card_copies(test_input)))"
   ]
  },
  {
   "cell_type": "code",
   "execution_count": 88,
   "metadata": {},
   "outputs": [
    {
     "data": {
      "text/plain": [
       "30"
      ]
     },
     "execution_count": 88,
     "metadata": {},
     "output_type": "execute_result"
    }
   ],
   "source": [
    "def get_score_2(lines):\n",
    "    return len(calc_card_counts(calc_card_copies(lines)))\n",
    "\n",
    "get_score_2(test_input)"
   ]
  },
  {
   "cell_type": "code",
   "execution_count": 91,
   "metadata": {},
   "outputs": [
    {
     "data": {
      "text/plain": [
       "9721255"
      ]
     },
     "execution_count": 91,
     "metadata": {},
     "output_type": "execute_result"
    }
   ],
   "source": [
    "get_score_2(real_input)"
   ]
  }
 ],
 "metadata": {
  "kernelspec": {
   "display_name": "Python 3",
   "language": "python",
   "name": "python3"
  },
  "language_info": {
   "codemirror_mode": {
    "name": "ipython",
    "version": 3
   },
   "file_extension": ".py",
   "mimetype": "text/x-python",
   "name": "python",
   "nbconvert_exporter": "python",
   "pygments_lexer": "ipython3",
   "version": "3.10.0"
  },
  "orig_nbformat": 4
 },
 "nbformat": 4,
 "nbformat_minor": 2
}
