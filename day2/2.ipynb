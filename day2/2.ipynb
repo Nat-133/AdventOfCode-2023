{
 "cells": [
  {
   "cell_type": "code",
   "execution_count": 57,
   "metadata": {},
   "outputs": [],
   "source": [
    "test_input = \"\"\"Game 1: 3 blue, 4 red; 1 red, 2 green, 6 blue; 2 green\n",
    "Game 2: 1 blue, 2 green; 3 green, 4 blue, 1 red; 1 green, 1 blue\n",
    "Game 3: 8 green, 6 blue, 20 red; 5 blue, 4 red, 13 green; 5 green, 1 red\n",
    "Game 4: 1 green, 3 red, 6 blue; 3 green, 6 red; 3 green, 15 blue, 14 red\n",
    "Game 5: 6 red, 1 blue, 3 green; 2 blue, 1 red, 2 green\"\"\".split(\"\\n\")\n",
    "\n",
    "with open(\"input.txt\", \"r\") as f:\n",
    "    real_input = f.read().split(\"\\n\")"
   ]
  },
  {
   "cell_type": "code",
   "execution_count": 58,
   "metadata": {},
   "outputs": [
    {
     "data": {
      "text/plain": [
       "1"
      ]
     },
     "execution_count": 58,
     "metadata": {},
     "output_type": "execute_result"
    }
   ],
   "source": [
    "class Game:\n",
    "    COLOURS = {\"green\", \"blue\", \"red\"}\n",
    "    def __init__(self, line:str):\n",
    "        self.id, raw_rounds = self.parse_id(line)\n",
    "        rounds = [self.parse_round(raw_round) for raw_round in raw_rounds]\n",
    "\n",
    "        drawn_counts = lambda c : [round[c] if c in round else 0 for round in rounds]\n",
    "        self.min_colour_quantities = {c:max(drawn_counts(c)) for c in self.COLOURS}\n",
    "    \n",
    "    def satisfies(self, red, green, blue):\n",
    "        return (\n",
    "            self.min_colour_quantities[\"red\"] < red\n",
    "            and self.min_colour_quantities[\"green\"] < green\n",
    "            and self.min_colour_quantities[\"blue\"] < blue\n",
    "        )\n",
    "    \n",
    "    def contribution(self, red, green, blue):\n",
    "        return self.id if self.satisfies(red, green, blue) else 0\n",
    "    \n",
    "    @staticmethod\n",
    "    def parse_id(line:str):\n",
    "        game, rounds = line.split(\": \")\n",
    "        id = int(game.split()[1])\n",
    "        return id, rounds.split(\"; \")\n",
    "    \n",
    "    @staticmethod\n",
    "    def parse_round(round):\n",
    "        cubes = round.split(\", \")\n",
    "        quantities = {colour : int(quantity) for quantity, colour in map(lambda s: s.split(), cubes)}\n",
    "        return quantities\n",
    "\n",
    "g1 = Game(test_input[0])\n",
    "g1.contribution(12, 13, 14)"
   ]
  },
  {
   "cell_type": "code",
   "execution_count": 63,
   "metadata": {},
   "outputs": [
    {
     "data": {
      "text/plain": [
       "[<__main__.Game at 0x20b14ed0f10>,\n",
       " <__main__.Game at 0x20b14ed2260>,\n",
       " <__main__.Game at 0x20b14ed26e0>,\n",
       " <__main__.Game at 0x20b14ed00a0>,\n",
       " <__main__.Game at 0x20b14ed0550>]"
      ]
     },
     "execution_count": 63,
     "metadata": {},
     "output_type": "execute_result"
    }
   ],
   "source": [
    "def get_games(lines):\n",
    "    return [Game(line) for line in lines]\n",
    "\n",
    "get_games(test_input)"
   ]
  },
  {
   "cell_type": "code",
   "execution_count": 65,
   "metadata": {},
   "outputs": [
    {
     "data": {
      "text/plain": [
       "2141"
      ]
     },
     "execution_count": 65,
     "metadata": {},
     "output_type": "execute_result"
    }
   ],
   "source": [
    "def get_score_1(games, red, green, blue):\n",
    "    return sum([game.contribution(red, green, blue) for game in games])\n",
    "\n",
    "get_score_1(get_games(real_input), 12, 13, 14)"
   ]
  }
 ],
 "metadata": {
  "kernelspec": {
   "display_name": "Python 3",
   "language": "python",
   "name": "python3"
  },
  "language_info": {
   "codemirror_mode": {
    "name": "ipython",
    "version": 3
   },
   "file_extension": ".py",
   "mimetype": "text/x-python",
   "name": "python",
   "nbconvert_exporter": "python",
   "pygments_lexer": "ipython3",
   "version": "3.10.0"
  },
  "orig_nbformat": 4
 },
 "nbformat": 4,
 "nbformat_minor": 2
}
