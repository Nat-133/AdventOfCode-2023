{
 "cells": [
  {
   "cell_type": "code",
   "execution_count": 1,
   "metadata": {},
   "outputs": [
    {
     "data": {
      "text/plain": [
       "['O....#....',\n",
       " 'O.OO#....#',\n",
       " '.....##...',\n",
       " 'OO.#O....O',\n",
       " '.O.....O#.',\n",
       " 'O.#..O.#.#',\n",
       " '..O..#O..O',\n",
       " '.......O..',\n",
       " '#....###..',\n",
       " '#OO..#....']"
      ]
     },
     "execution_count": 1,
     "metadata": {},
     "output_type": "execute_result"
    }
   ],
   "source": [
    "with open(\"test_input.txt\", \"r\") as f:\n",
    "    test_input = f.read().split(\"\\n\")\n",
    "\n",
    "with open(\"input.txt\", \"r\") as f:\n",
    "    real_input = f.read().split(\"\\n\")\n",
    "\n",
    "test_input"
   ]
  },
  {
   "cell_type": "code",
   "execution_count": 23,
   "metadata": {},
   "outputs": [
    {
     "name": "stdout",
     "output_type": "stream",
     "text": [
      "[(0, 5), (1, 4), (1, 9), (2, 5), (2, 6), (3, 3), (4, 8), (5, 2), (5, 7), (5, 9), (6, 5), (8, 0), (8, 5), (8, 6), (8, 7), (9, 0), (9, 5)]\n"
     ]
    }
   ],
   "source": [
    "def get_cube_indices(grid):\n",
    "    return [(i,j) for i, line in enumerate(grid) for j, c in enumerate(line) if c==\"#\"]\n",
    "\n",
    "print(get_cube_indices(test_input))"
   ]
  },
  {
   "cell_type": "code",
   "execution_count": 20,
   "metadata": {},
   "outputs": [
    {
     "data": {
      "text/plain": [
       "10"
      ]
     },
     "execution_count": 20,
     "metadata": {},
     "output_type": "execute_result"
    }
   ],
   "source": [
    "def calc_load(grid, index):\n",
    "    load = 0\n",
    "    current_load = len(grid) - index[0] - 1\n",
    "    for c in map(lambda s:s[index[1]], grid[index[0]+1:]):\n",
    "        if c == \"#\": \n",
    "            break\n",
    "        elif c == \"O\":\n",
    "            load += current_load\n",
    "            current_load -= 1\n",
    "    \n",
    "    return load\n",
    "\n",
    "calc_load(test_input, (-1,2))\n"
   ]
  },
  {
   "cell_type": "code",
   "execution_count": 21,
   "metadata": {},
   "outputs": [
    {
     "data": {
      "text/plain": [
       "136"
      ]
     },
     "execution_count": 21,
     "metadata": {},
     "output_type": "execute_result"
    }
   ],
   "source": [
    "def calc_total_load(grid):\n",
    "    square_indices = [(-1, i) for i in range(len(grid[0]))] + get_cube_indices(grid)\n",
    "    return sum(calc_load(grid, index) for index in square_indices)\n",
    "\n",
    "calc_total_load(test_input)"
   ]
  },
  {
   "cell_type": "code",
   "execution_count": 22,
   "metadata": {},
   "outputs": [
    {
     "data": {
      "text/plain": [
       "109654"
      ]
     },
     "execution_count": 22,
     "metadata": {},
     "output_type": "execute_result"
    }
   ],
   "source": [
    "calc_total_load(real_input)"
   ]
  },
  {
   "cell_type": "code",
   "execution_count": 24,
   "metadata": {},
   "outputs": [
    {
     "data": {
      "text/plain": [
       "[['O', '.', '.', '.', '.', '#', '.', '.', '.', '.'],\n",
       " ['O', '.', 'O', 'O', '#', '.', '.', '.', '.', '#'],\n",
       " ['.', '.', '.', '.', '.', '#', '#', '.', '.', '.'],\n",
       " ['O', 'O', '.', '#', 'O', '.', '.', '.', '.', 'O'],\n",
       " ['.', 'O', '.', '.', '.', '.', '.', 'O', '#', '.'],\n",
       " ['O', '.', '#', '.', '.', 'O', '.', '#', '.', '#'],\n",
       " ['.', '.', 'O', '.', '.', '#', 'O', '.', '.', 'O'],\n",
       " ['.', '.', '.', '.', '.', '.', '.', 'O', '.', '.'],\n",
       " ['#', '.', '.', '.', '.', '#', '#', '#', '.', '.'],\n",
       " ['#', 'O', 'O', '.', '.', '#', '.', '.', '.', '.']]"
      ]
     },
     "execution_count": 24,
     "metadata": {},
     "output_type": "execute_result"
    }
   ],
   "source": [
    "def split_input(lines):\n",
    "    return [list(line) for line in lines]\n",
    "\n",
    "split_input(test_input)"
   ]
  },
  {
   "cell_type": "code",
   "execution_count": 44,
   "metadata": {},
   "outputs": [
    {
     "data": {
      "text/plain": [
       "[['#', '#', '.', '.', 'O', '.', 'O', '.', 'O', 'O'],\n",
       " ['O', '.', '.', '.', '.', 'O', 'O', '.', '.', '.'],\n",
       " ['O', '.', '.', 'O', '#', '.', '.', '.', 'O', '.'],\n",
       " ['.', '.', '.', '.', '.', '.', '#', '.', 'O', '.'],\n",
       " ['.', '.', '.', '.', '.', '.', 'O', '.', '#', '.'],\n",
       " ['#', '#', '.', '#', 'O', '.', '.', '#', '.', '#'],\n",
       " ['.', '#', '.', 'O', '.', '.', '.', '#', '.', '.'],\n",
       " ['.', '#', 'O', '.', '#', 'O', '.', '.', '.', '.'],\n",
       " ['.', '.', '.', '.', '.', '#', '.', '.', '.', '.'],\n",
       " ['.', '.', '.', 'O', '#', '.', 'O', '.', '#', '.']]"
      ]
     },
     "execution_count": 44,
     "metadata": {},
     "output_type": "execute_result"
    }
   ],
   "source": [
    "def rotate(grid):\n",
    "    return list(list(line)[::-1] for line in zip(*grid))\n",
    "\n",
    "rotate(split_input(test_input))"
   ]
  },
  {
   "cell_type": "code",
   "execution_count": 55,
   "metadata": {},
   "outputs": [
    {
     "data": {
      "text/plain": [
       "[['O', 'O', 'O', 'O', '.', '#', '.', 'O', '.', '.'],\n",
       " ['O', 'O', '.', '.', '#', '.', '.', '.', '.', '#'],\n",
       " ['O', 'O', '.', '.', 'O', '#', '#', '.', '.', 'O'],\n",
       " ['O', '.', '.', '#', '.', 'O', 'O', '.', '.', '.'],\n",
       " ['.', '.', '.', '.', '.', '.', '.', '.', '#', '.'],\n",
       " ['.', '.', '#', '.', '.', '.', '.', '#', '.', '#'],\n",
       " ['.', '.', 'O', '.', '.', '#', '.', 'O', '.', 'O'],\n",
       " ['.', '.', 'O', '.', '.', '.', '.', '.', '.', '.'],\n",
       " ['#', '.', '.', '.', '.', '#', '#', '#', '.', '.'],\n",
       " ['#', '.', '.', '.', '.', '#', '.', '.', '.', '.']]"
      ]
     },
     "execution_count": 55,
     "metadata": {},
     "output_type": "execute_result"
    }
   ],
   "source": [
    "def stack_stones(grid, index, total):\n",
    "    for i in range(total):\n",
    "        grid[index[0]+i+1][index[1]] = \"O\"\n",
    "    \n",
    "def tilt(grid):\n",
    "    for j in range(len(grid[0])):\n",
    "        running_count = 0\n",
    "        for i in range(len(grid)-1, -2, -1):\n",
    "            c = grid[i][j]\n",
    "            if c == \"#\" or i == -1:\n",
    "                stack_stones(grid, (i,j), running_count)\n",
    "                running_count = 0\n",
    "            elif c == \"O\":\n",
    "                running_count += 1\n",
    "                grid[i][j] = \".\"\n",
    "    return grid\n",
    "\n",
    "grid = split_input(test_input)\n",
    "tilt(grid)"
   ]
  },
  {
   "cell_type": "code",
   "execution_count": 60,
   "metadata": {},
   "outputs": [
    {
     "data": {
      "text/plain": [
       "((4,), (3,), (1, 2), (1,), (1,), (1,), (1,), (1, 1), (), (1, 1))"
      ]
     },
     "execution_count": 60,
     "metadata": {},
     "output_type": "execute_result"
    }
   ],
   "source": [
    "\n",
    "def representation(grid):\n",
    "    # might not be completely unique, but seems unlikely to be an issue\n",
    "    def block_counts(column):\n",
    "        rep = []\n",
    "        count = 0\n",
    "        for c in column:\n",
    "            if c == \"O\":\n",
    "                count += 1\n",
    "            elif count != 0:\n",
    "                rep.append(count)\n",
    "                count = 0\n",
    "        if count > 0:\n",
    "            rep.append(count)\n",
    "        return rep\n",
    "    \n",
    "    return tuple(tuple(block_counts(col)) for col in zip(*grid))\n",
    "\n",
    "\n",
    "representation(grid)"
   ]
  },
  {
   "cell_type": "code",
   "execution_count": 62,
   "metadata": {},
   "outputs": [
    {
     "data": {
      "text/plain": [
       "[['.', '.', '.', '.', '.', '#', '.', '.', '.', '.'],\n",
       " ['.', '.', '.', '.', '#', '.', '.', '.', 'O', '#'],\n",
       " ['.', '.', '.', 'O', 'O', '#', '#', '.', '.', '.'],\n",
       " ['.', 'O', 'O', '#', '.', '.', '.', '.', '.', '.'],\n",
       " ['.', '.', '.', '.', '.', 'O', 'O', 'O', '#', '.'],\n",
       " ['.', 'O', '#', '.', '.', '.', 'O', '#', '.', '#'],\n",
       " ['.', '.', '.', '.', 'O', '#', '.', '.', '.', '.'],\n",
       " ['.', '.', '.', '.', '.', '.', 'O', 'O', 'O', 'O'],\n",
       " ['#', '.', '.', '.', 'O', '#', '#', '#', '.', '.'],\n",
       " ['#', '.', '.', 'O', 'O', '#', '.', '.', '.', '.']]"
      ]
     },
     "execution_count": 62,
     "metadata": {},
     "output_type": "execute_result"
    }
   ],
   "source": [
    "def perform_cycle(grid):\n",
    "    new_grid = grid\n",
    "    for _ in range(4):\n",
    "        tilt(new_grid)\n",
    "        new_grid = rotate(new_grid)\n",
    "    return new_grid\n",
    "\n",
    "perform_cycle(split_input(test_input))"
   ]
  },
  {
   "cell_type": "code",
   "execution_count": 96,
   "metadata": {},
   "outputs": [
    {
     "name": "stdout",
     "output_type": "stream",
     "text": [
      "0\n",
      "loop\n",
      "2 9 7\n",
      "999999999\n",
      "9 1000000000 999999990 3\n",
      "0\n"
     ]
    },
    {
     "data": {
      "text/plain": [
       "106"
      ]
     },
     "execution_count": 96,
     "metadata": {},
     "output_type": "execute_result"
    }
   ],
   "source": [
    "def perform_n_cycles(grid, n):\n",
    "    layout_history = {representation(grid) : 0}\n",
    "    new_grid = grid\n",
    "    for i in range(n):\n",
    "        if not i%100: print(i)\n",
    "        new_grid = perform_cycle(new_grid)\n",
    "        #key = representation(new_grid)\n",
    "        key = \"\".join([\"\".join(row) for row in new_grid])\n",
    "        if key in layout_history:\n",
    "            print(\"loop\")\n",
    "            old_index = layout_history[key]\n",
    "            loop_size = i - old_index\n",
    "            print(old_index, i, loop_size)\n",
    "            remaining_cycles = n - 1 - i\n",
    "            leftovers = remaining_cycles % loop_size\n",
    "            print(i + loop_size * (remaining_cycles//loop_size) + leftovers)\n",
    "            print(i, n, remaining_cycles, leftovers)\n",
    "            return perform_n_cycles(new_grid, leftovers + 1)\n",
    "        layout_history[key] = i\n",
    "    return new_grid\n",
    "\n",
    "calc_total_load(perform_n_cycles(split_input(test_input), 1000000000))"
   ]
  },
  {
   "cell_type": "code",
   "execution_count": 85,
   "metadata": {},
   "outputs": [
    {
     "data": {
      "text/plain": [
       "99999990"
      ]
     },
     "execution_count": 85,
     "metadata": {},
     "output_type": "execute_result"
    }
   ],
   "source": []
  }
 ],
 "metadata": {
  "kernelspec": {
   "display_name": "Python 3",
   "language": "python",
   "name": "python3"
  },
  "language_info": {
   "codemirror_mode": {
    "name": "ipython",
    "version": 3
   },
   "file_extension": ".py",
   "mimetype": "text/x-python",
   "name": "python",
   "nbconvert_exporter": "python",
   "pygments_lexer": "ipython3",
   "version": "3.10.0"
  }
 },
 "nbformat": 4,
 "nbformat_minor": 2
}
